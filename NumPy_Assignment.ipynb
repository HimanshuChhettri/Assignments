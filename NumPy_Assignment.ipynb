{
  "nbformat": 4,
  "nbformat_minor": 0,
  "metadata": {
    "colab": {
      "provenance": [],
      "authorship_tag": "ABX9TyPPp6IL31Ned0C0yqsdhs5Q",
      "include_colab_link": true
    },
    "kernelspec": {
      "name": "python3",
      "display_name": "Python 3"
    },
    "language_info": {
      "name": "python"
    }
  },
  "cells": [
    {
      "cell_type": "markdown",
      "metadata": {
        "id": "view-in-github",
        "colab_type": "text"
      },
      "source": [
        "<a href=\"https://colab.research.google.com/github/HimanshuChhettri/PWSkills-Assignments/blob/NumPy-Assignment/NumPy_Assignment.ipynb\" target=\"_parent\"><img src=\"https://colab.research.google.com/assets/colab-badge.svg\" alt=\"Open In Colab\"/></a>"
      ]
    },
    {
      "cell_type": "code",
      "execution_count": 2,
      "metadata": {
        "colab": {
          "base_uri": "https://localhost:8080/"
        },
        "id": "P7x42Uad3Yje",
        "outputId": "b3e1c41a-7269-4dfd-a607-93b362006753"
      },
      "outputs": [
        {
          "output_type": "stream",
          "name": "stdout",
          "text": [
            "Data type of arr: int64\n"
          ]
        }
      ],
      "source": [
        "# 1) Create a NumPy array 'arr' of integers from 0 to 5 and print its data type.\n",
        "\n",
        "import numpy as np\n",
        "arr = np.array([0, 1, 2, 3, 4, 5])\n",
        "print(\"Data type of arr:\", arr.dtype)"
      ]
    },
    {
      "cell_type": "code",
      "source": [
        "# 2) Given a NumPy array 'arr', check if its data type is float64.\n",
        "\n",
        "import numpy as np\n",
        "arr = np.array([1.5, 2.6, 3.7])\n",
        "print(\"Is arr a float64 array?\", arr.dtype == np.float64)"
      ],
      "metadata": {
        "colab": {
          "base_uri": "https://localhost:8080/"
        },
        "id": "fuvh2mWu4VpO",
        "outputId": "73d9784f-4414-48db-b8a5-045e575fd4e5"
      },
      "execution_count": 3,
      "outputs": [
        {
          "output_type": "stream",
          "name": "stdout",
          "text": [
            "Is arr a float64 array? True\n"
          ]
        }
      ]
    },
    {
      "cell_type": "code",
      "source": [
        "# 3) Create a NumPy array 'arr' with a data type of complex128 containing three complex numbers.\n",
        "\n",
        "import numpy as np\n",
        "arr = np.array([1 + 2j, 3 + 4j, 5 + 6j], dtype=np.complex128)\n",
        "print(\"Complex array:\", arr)\n"
      ],
      "metadata": {
        "colab": {
          "base_uri": "https://localhost:8080/"
        },
        "id": "t3KX_vSj4hps",
        "outputId": "996c4904-74c1-4218-845e-87b86edffb6b"
      },
      "execution_count": 4,
      "outputs": [
        {
          "output_type": "stream",
          "name": "stdout",
          "text": [
            "Complex array: [1.+2.j 3.+4.j 5.+6.j]\n"
          ]
        }
      ]
    },
    {
      "cell_type": "code",
      "source": [
        "# 4) Convert an existing NumPy array 'arr' of integers to float32 data type.\n",
        "\n",
        "import numpy as np\n",
        "arr = np.array([1, 2, 3])\n",
        "arr_float32 = arr.astype(np.float32)\n",
        "print(\"Converted to float32:\", arr_float32)\n"
      ],
      "metadata": {
        "colab": {
          "base_uri": "https://localhost:8080/"
        },
        "id": "08s759K94tUb",
        "outputId": "7b727e4b-d051-4c2e-a547-9c7c4279015d"
      },
      "execution_count": 6,
      "outputs": [
        {
          "output_type": "stream",
          "name": "stdout",
          "text": [
            "Converted to float32: [1. 2. 3.]\n"
          ]
        }
      ]
    },
    {
      "cell_type": "code",
      "source": [
        "# 5) Given a NumPy array 'arr' with float64 data type, convert it to float32 to reduce decimal precision.\n",
        "\n",
        "import numpy as np\n",
        "arr = np.array([1.123456789, 2.234567890])\n",
        "arr_float32 = arr.astype(np.float32)\n",
        "print(\"Reduced decimal precision:\", arr_float32)\n"
      ],
      "metadata": {
        "colab": {
          "base_uri": "https://localhost:8080/"
        },
        "id": "fdKknBuz45v0",
        "outputId": "48705e68-763a-4c9d-ccb0-857f85e6fcc2"
      },
      "execution_count": 7,
      "outputs": [
        {
          "output_type": "stream",
          "name": "stdout",
          "text": [
            "Reduced decimal precision: [1.1234568 2.2345679]\n"
          ]
        }
      ]
    },
    {
      "cell_type": "code",
      "source": [
        "# 6) Write a function array_attributes that takes a NumPy array as input and returns its shape, size, and data type.\n",
        "\n",
        "import numpy as np\n",
        "def array_attributes(arr):\n",
        "    shape = arr.shape\n",
        "    size = arr.size\n",
        "    dtype = arr.dtype\n",
        "    return shape, size, dtype\n",
        "arr = np.array([[1, 2, 3], [4, 5, 6]])\n",
        "shape, size, dtype = array_attributes(arr)\n",
        "print(\"Shape:\", shape)\n",
        "print(\"Size:\", size)\n",
        "print(\"Data type:\", dtype)"
      ],
      "metadata": {
        "colab": {
          "base_uri": "https://localhost:8080/"
        },
        "id": "006lkvrp5Dcz",
        "outputId": "5fd9e9e7-c43a-4862-8c57-910790bed890"
      },
      "execution_count": 9,
      "outputs": [
        {
          "output_type": "stream",
          "name": "stdout",
          "text": [
            "Shape: (2, 3)\n",
            "Size: 6\n",
            "Data type: int64\n"
          ]
        }
      ]
    },
    {
      "cell_type": "code",
      "source": [
        "# 7)  Create a function array_dimension that takes a NumPy array as input and returns its dimensionality.\n",
        "\n",
        "import numpy as np\n",
        "def array_dimension(arr):\n",
        "    dimension = len(arr.shape)\n",
        "    return dimension\n",
        "arr = np.array([[1, 2, 3], [4, 5, 6]])\n",
        "dimension = array_dimension(arr)\n",
        "print(dimension)"
      ],
      "metadata": {
        "colab": {
          "base_uri": "https://localhost:8080/"
        },
        "id": "jo8zAjqQ5gHG",
        "outputId": "813177ab-3bfe-4856-9b79-c0d839361e98"
      },
      "execution_count": 11,
      "outputs": [
        {
          "output_type": "stream",
          "name": "stdout",
          "text": [
            "2\n"
          ]
        }
      ]
    },
    {
      "cell_type": "code",
      "source": [
        "# 8) Design a function item_size_info that takes a NumPy array as input and returns the item size and the total size in bytes.\n",
        "\n",
        "import numpy as np\n",
        "def item_size_info(arr):\n",
        "    item_size = arr.itemsize\n",
        "    total_size = arr.nbytes\n",
        "    return item_size, total_size\n",
        "arr = np.array([[1, 2, 3], [4, 5, 6]])\n",
        "item_size, total_size = item_size_info(arr)\n",
        "print(\"Item size:\", item_size)"
      ],
      "metadata": {
        "colab": {
          "base_uri": "https://localhost:8080/"
        },
        "id": "TZ7sKwqM50zX",
        "outputId": "b31fffe1-1682-491c-de08-5b8af2148bb4"
      },
      "execution_count": 12,
      "outputs": [
        {
          "output_type": "stream",
          "name": "stdout",
          "text": [
            "Item size: 8\n"
          ]
        }
      ]
    },
    {
      "cell_type": "code",
      "source": [
        "# 9) Create a function array_strides that takes a NumPy array as input and returns the strides of the array.\n",
        "\n",
        "import numpy as np\n",
        "def array_strides(arr):\n",
        "    strides = arr.strides\n",
        "    return strides\n",
        "arr = np.array([[1, 2, 3], [4, 5, 6]])\n",
        "strides = array_strides(arr)\n",
        "print(strides)"
      ],
      "metadata": {
        "colab": {
          "base_uri": "https://localhost:8080/"
        },
        "id": "nz-AINyA6BEE",
        "outputId": "c8206780-75fc-4ad1-eca8-95837b94e814"
      },
      "execution_count": 15,
      "outputs": [
        {
          "output_type": "stream",
          "name": "stdout",
          "text": [
            "(24, 8)\n"
          ]
        }
      ]
    },
    {
      "cell_type": "code",
      "source": [
        "# 10) Design a function shape_stride_relationship that takes a NumPy array as input and returns the shape and strides of the array.\n",
        "\n",
        "import numpy as np\n",
        "def shape_stride_relationship(arr):\n",
        "    shape = arr.shape\n",
        "    strides = arr.strides\n",
        "    return shape, strides\n",
        "arr = np.array([1,2,3,4,5,6,7,8,9])\n",
        "print(shape_stride_relationship(arr)[0])\n",
        "print(shape_stride_relationship(arr)[1])"
      ],
      "metadata": {
        "colab": {
          "base_uri": "https://localhost:8080/"
        },
        "id": "35ZFeeyM6qOj",
        "outputId": "6e9a3d08-8e73-4c57-c9c3-67d6092ead5a"
      },
      "execution_count": 17,
      "outputs": [
        {
          "output_type": "stream",
          "name": "stdout",
          "text": [
            "(9,)\n",
            "(8,)\n"
          ]
        }
      ]
    },
    {
      "cell_type": "code",
      "source": [
        "# 11) Create a function `create_zeros_array` that takes an integer `n` as input and returns a NumPy array of zeros with `n` elements.\n",
        "\n",
        "import numpy as np\n",
        "def create_zeros_array(n):\n",
        "    zeros_array = np.zeros(n)\n",
        "    return zeros_array\n",
        "n = 5\n",
        "zeros_array = create_zeros_array(n)\n",
        "print(zeros_array)\n"
      ],
      "metadata": {
        "colab": {
          "base_uri": "https://localhost:8080/"
        },
        "id": "62BrvVRV78lD",
        "outputId": "02f791ea-fc25-42f1-9227-347861dd06e1"
      },
      "execution_count": 18,
      "outputs": [
        {
          "output_type": "stream",
          "name": "stdout",
          "text": [
            "[0. 0. 0. 0. 0.]\n"
          ]
        }
      ]
    },
    {
      "cell_type": "code",
      "source": [
        "# 12)  Write a function `create_ones_matrix` that takes integers `rows` and `cols` as inputs and generates a 2D NumPy array filled with ones of size `rows x cols`.\n",
        "\n",
        "import numpy as np\n",
        "def create_ones_matrix(rows, cols):\n",
        "    ones_matrix = np.ones((rows, cols))\n",
        "    return ones_matrix\n",
        "rows = 3\n",
        "cols = 4\n",
        "result = create_ones_matrix(rows, cols)\n",
        "print(result)"
      ],
      "metadata": {
        "colab": {
          "base_uri": "https://localhost:8080/"
        },
        "id": "kfT6VAwH8SpK",
        "outputId": "7715c1ee-52e3-477d-ff2c-ffa410a98c99"
      },
      "execution_count": 19,
      "outputs": [
        {
          "output_type": "stream",
          "name": "stdout",
          "text": [
            "[[1. 1. 1. 1.]\n",
            " [1. 1. 1. 1.]\n",
            " [1. 1. 1. 1.]]\n"
          ]
        }
      ]
    },
    {
      "cell_type": "code",
      "source": [
        "# 13) Write a function `generate_range_array` that takes three integers start, stop, and step as arguments and creates a NumPy array with a range starting from `start`, ending at stop (exclusive), and with the specified `step`.\n",
        "\n",
        "import numpy as np\n",
        "def generate_range_array(start, stop, step):\n",
        "    range_array = np.arange(start, stop, step)\n",
        "    return range_array\n",
        "start = 1\n",
        "stop = 10\n",
        "step = 2\n",
        "result = generate_range_array(start, stop, step)\n",
        "print(result)\n"
      ],
      "metadata": {
        "colab": {
          "base_uri": "https://localhost:8080/"
        },
        "id": "UiMqAUtp8olB",
        "outputId": "3022e7b5-e5bf-400c-b9a8-f3c67a4990c1"
      },
      "execution_count": 20,
      "outputs": [
        {
          "output_type": "stream",
          "name": "stdout",
          "text": [
            "[1 3 5 7 9]\n"
          ]
        }
      ]
    },
    {
      "cell_type": "code",
      "source": [
        "# 14) Design a function `generate_linear_space` that takes two floats `start`, `stop`, and an integer `num` as arguments and generates a NumPy array with num equally spaced values between `start` and `stop` (inclusive).\n",
        "\n",
        "import numpy as np\n",
        "def generate_linear_space(start, stop, num):\n",
        "    linspace_array = np.linspace(start, stop, num)\n",
        "    return linspace_array\n",
        "start = 1\n",
        "stop = 10\n",
        "num = 3\n",
        "result = generate_linear_space(start, stop, num)\n",
        "print(result)"
      ],
      "metadata": {
        "colab": {
          "base_uri": "https://localhost:8080/"
        },
        "id": "MaNV5ure9HF4",
        "outputId": "477e4ae8-2694-4837-b472-0ac607884b52"
      },
      "execution_count": 25,
      "outputs": [
        {
          "output_type": "stream",
          "name": "stdout",
          "text": [
            "[ 1.   5.5 10. ]\n"
          ]
        }
      ]
    },
    {
      "cell_type": "code",
      "source": [
        "# 15) Create a function `create_identity_matrix` that takes an integer `n` as input and generates a square identity matrix of size `n x n` using `numpy.eye`.\n",
        "\n",
        "import numpy as np\n",
        "def create_identity_matrix(n):\n",
        "    identity_matrix = np.eye(n)\n",
        "    return identity_matrix\n",
        "n = 4\n",
        "result = create_identity_matrix(n)\n",
        "print(result)"
      ],
      "metadata": {
        "colab": {
          "base_uri": "https://localhost:8080/"
        },
        "id": "p-cC5uUP-sUt",
        "outputId": "e7cecbbc-78d4-4e36-ef15-35bb8b466f44"
      },
      "execution_count": 26,
      "outputs": [
        {
          "output_type": "stream",
          "name": "stdout",
          "text": [
            "[[1. 0. 0. 0.]\n",
            " [0. 1. 0. 0.]\n",
            " [0. 0. 1. 0.]\n",
            " [0. 0. 0. 1.]]\n"
          ]
        }
      ]
    },
    {
      "cell_type": "code",
      "source": [
        "# 16) Write a function that takes a Python list and converts it into a NumPy array.\n",
        "\n",
        "import numpy as np\n",
        "def list_to_numpy_array(python_list):\n",
        "    numpy_array = np.array(python_list)\n",
        "    return numpy_array\n",
        "\n",
        "python_list = [1, 2, 3, 4, 5]\n",
        "numpy_array = list_to_numpy_array(python_list)\n",
        "print(numpy_array)"
      ],
      "metadata": {
        "colab": {
          "base_uri": "https://localhost:8080/"
        },
        "id": "z-fUNj3s-5TY",
        "outputId": "9613c356-1339-4b3b-8077-32dbfa269056"
      },
      "execution_count": 28,
      "outputs": [
        {
          "output_type": "stream",
          "name": "stdout",
          "text": [
            "[1 2 3 4 5]\n"
          ]
        }
      ]
    },
    {
      "cell_type": "code",
      "source": [
        "# 17) Create a NumPy array and demonstrate the use of `numpy.view` to create a new array object with the same data\n",
        "\n",
        "import numpy as np\n",
        "arr = np.array([1, 2, 3])\n",
        "view_arr = arr.view()\n",
        "print(\"Original array:\", arr)\n",
        "print(\"View array:\", view_arr)"
      ],
      "metadata": {
        "colab": {
          "base_uri": "https://localhost:8080/"
        },
        "id": "P7f8rNdn_GpX",
        "outputId": "80f39f36-f3b6-4c18-8e1c-e120f64310fb"
      },
      "execution_count": 29,
      "outputs": [
        {
          "output_type": "stream",
          "name": "stdout",
          "text": [
            "Original array: [1 2 3]\n",
            "View array: [1 2 3]\n"
          ]
        }
      ]
    },
    {
      "cell_type": "code",
      "source": [
        "# 18) Write a function that takes two NumPy arrays and concatenates them along a specified axis.\n",
        "\n",
        "import numpy as np\n",
        "def concatenate_arrays(arr1, arr2, axis=0):\n",
        "    concatenated_array = np.concatenate((arr1, arr2), axis=axis)\n",
        "    return concatenated_array\n",
        "arr1 = np.array([[1, 2], [3, 4]])\n",
        "arr2 = np.array([[5, 6], [7, 8]])\n",
        "concatenated_array = concatenate_arrays(arr1, arr2, axis=1)\n",
        "print(concatenated_array)"
      ],
      "metadata": {
        "colab": {
          "base_uri": "https://localhost:8080/"
        },
        "id": "CZqOMgu2_Qzp",
        "outputId": "09bd1e73-88e7-4f65-86c0-bd26760142a1"
      },
      "execution_count": 33,
      "outputs": [
        {
          "output_type": "stream",
          "name": "stdout",
          "text": [
            "[[1 2 5 6]\n",
            " [3 4 7 8]]\n"
          ]
        }
      ]
    },
    {
      "cell_type": "code",
      "source": [
        "# 19) Create two NumPy arrays with different shapes and concatenate them horizontally using `numpy.concatenate`.\n",
        "\n",
        "import numpy as np\n",
        "arr1 = np.array([[1, 2], [3, 4]])\n",
        "arr2 = np.array([[5, 6, 7], [8, 9, 10]])\n",
        "concatenated_array = np.concatenate((arr1, arr2), axis=1)\n",
        "print(\"Horizontally concatenated array:\")\n",
        "print(concatenated_array)\n"
      ],
      "metadata": {
        "colab": {
          "base_uri": "https://localhost:8080/"
        },
        "id": "zqDf7yMx_j5T",
        "outputId": "36a2e4f6-da31-466e-8b5b-45524886a525"
      },
      "execution_count": 30,
      "outputs": [
        {
          "output_type": "stream",
          "name": "stdout",
          "text": [
            "Horizontally concatenated array:\n",
            "[[ 1  2  5  6  7]\n",
            " [ 3  4  8  9 10]]\n"
          ]
        }
      ]
    },
    {
      "cell_type": "code",
      "source": [
        "# 20) Write a function that vertically stacks multiple NumPy arrays given as a list\n",
        "\n",
        "import numpy as np\n",
        "def vertical_stack(array_list):\n",
        "    stacked_array = np.vstack(array_list)\n",
        "    return stacked_array\n",
        "arr1 = np.array([[1, 2], [3, 4]])\n",
        "arr2 = np.array([[5, 6], [7, 8]])\n",
        "result = vertical_stack([arr1, arr2])\n",
        "print(result)"
      ],
      "metadata": {
        "colab": {
          "base_uri": "https://localhost:8080/"
        },
        "id": "_nU8X48I_s44",
        "outputId": "bf9be4c4-d3e8-4887-a176-e8a9910df8d1"
      },
      "execution_count": 36,
      "outputs": [
        {
          "output_type": "stream",
          "name": "stdout",
          "text": [
            "[[1 2]\n",
            " [3 4]\n",
            " [5 6]\n",
            " [7 8]]\n"
          ]
        }
      ]
    },
    {
      "cell_type": "code",
      "source": [
        "# 21) Write a Python function using NumPy to create an array of integers within a specified range (inclusive) with a given step size.\n",
        "\n",
        "import numpy as np\n",
        "def create_range_array(start, stop, step):\n",
        "    return np.arange(start, stop+1, step)\n",
        "arr1 = create_range_array(1, 10, 2)\n",
        "print(arr1)"
      ],
      "metadata": {
        "colab": {
          "base_uri": "https://localhost:8080/"
        },
        "id": "tHDty6CoKp49",
        "outputId": "20689f1b-856e-48f6-d633-cde5191ce08b"
      },
      "execution_count": 38,
      "outputs": [
        {
          "output_type": "stream",
          "name": "stdout",
          "text": [
            "[1 3 5 7 9]\n"
          ]
        }
      ]
    },
    {
      "cell_type": "code",
      "source": [
        "# 22) Write a Python function using NumPy to generate an array of 10 equally spaced values between 0 and 1 (inclusive).\n",
        "\n",
        "import numpy as np\n",
        "def generate_linspace_array():\n",
        "    return np.linspace(0, 1, 10)\n",
        "arr1 = generate_linspace_array()\n",
        "print(arr1)"
      ],
      "metadata": {
        "colab": {
          "base_uri": "https://localhost:8080/"
        },
        "id": "0Sdvl1-TLS4X",
        "outputId": "bc0bfb70-3809-4b3c-bd26-6f7be2bc7082"
      },
      "execution_count": 39,
      "outputs": [
        {
          "output_type": "stream",
          "name": "stdout",
          "text": [
            "[0.         0.11111111 0.22222222 0.33333333 0.44444444 0.55555556\n",
            " 0.66666667 0.77777778 0.88888889 1.        ]\n"
          ]
        }
      ]
    },
    {
      "cell_type": "code",
      "source": [
        "# 23) Write a Python function using NumPy to create an array of 5 logarithmically spaced values between 1 and 1000 (inclusive).\n",
        "\n",
        "import numpy as np\n",
        "def create_logspace_array():\n",
        "    return np.logspace(1, 1000, 5)\n",
        "arr1 = create_logspace_array()\n",
        "print(arr1)"
      ],
      "metadata": {
        "colab": {
          "base_uri": "https://localhost:8080/"
        },
        "id": "9qMKOxRoLixx",
        "outputId": "ce9973ff-3b64-4704-eb2d-3cebd27b38cd"
      },
      "execution_count": 45,
      "outputs": [
        {
          "output_type": "stream",
          "name": "stdout",
          "text": [
            "[1.00000000e+001 5.62341325e+250             inf             inf\n",
            "             inf]\n"
          ]
        }
      ]
    },
    {
      "cell_type": "code",
      "source": [
        "# 24) Create a Pandas DataFrame using a NumPy array that contains 5 rows and 3 columns, where the values are random integers between 1 and 100.\n",
        "\n",
        "import numpy as np\n",
        "import pandas as pd\n",
        "\n",
        "# Create a NumPy array with 5 rows and 3 columns, filled with random integers between 1 and 100\n",
        "data = np.random.randint(1, 101, size=(5, 3))\n",
        "\n",
        "# Create a Pandas DataFrame from the NumPy array\n",
        "df = pd.DataFrame(data, columns=['Column 1', 'Column 2', 'Column 3'])\n",
        "\n",
        "# Print the DataFrame\n",
        "print(df)"
      ],
      "metadata": {
        "colab": {
          "base_uri": "https://localhost:8080/"
        },
        "id": "OORbe_cYMI73",
        "outputId": "32197022-79b7-43b8-97d3-46ad8ebe21a1"
      },
      "execution_count": 46,
      "outputs": [
        {
          "output_type": "stream",
          "name": "stdout",
          "text": [
            "   Column 1  Column 2  Column 3\n",
            "0        38        27        96\n",
            "1        95        56        72\n",
            "2        83        14        77\n",
            "3        53        60        59\n",
            "4        44        39        54\n"
          ]
        }
      ]
    },
    {
      "cell_type": "code",
      "source": [
        "# 25) Write a function that takes a Pandas DataFrame and replaces all negative values in a specific column with zeros. Use NumPy operations within the Pandas DataFrame.\n",
        "\n",
        "import pandas as pd\n",
        "import numpy as np\n",
        "\n",
        "def replace_negatives_with_zeros(df, column_name):\n",
        "\n",
        "  # Create a boolean mask for negative values in the specified column\n",
        "  mask = df[column_name] < 0\n",
        "\n",
        "  # Replace negative values with zeros using NumPy's where function\n",
        "  df[column_name] = np.where(mask, 0, df[column_name])\n",
        "\n",
        "  return df\n",
        "\n",
        "# Example usage\n",
        "data = {'column1': [1, -2, 3, -4, 5],\n",
        "        'column2': [6, 7, -8, 9, 10]}\n",
        "df = pd.DataFrame(data)\n",
        "\n",
        "# Replace negative values in 'column1' with zeros\n",
        "df = replace_negatives_with_zeros(df, 'column1')\n",
        "\n",
        "print(df)"
      ],
      "metadata": {
        "colab": {
          "base_uri": "https://localhost:8080/"
        },
        "id": "CXgzoOiNNNFQ",
        "outputId": "428e70d0-7cb1-44d8-9a7c-2086997bf67b"
      },
      "execution_count": 47,
      "outputs": [
        {
          "output_type": "stream",
          "name": "stdout",
          "text": [
            "   column1  column2\n",
            "0        1        6\n",
            "1        0        7\n",
            "2        3       -8\n",
            "3        0        9\n",
            "4        5       10\n"
          ]
        }
      ]
    },
    {
      "cell_type": "code",
      "source": [
        "# 26. Access the 3rd element from the given NumPy array.\n",
        "\n",
        "import numpy as np\n",
        "arr = np.array([10, 20, 30, 40, 50])\n",
        "third_element = arr[2]\n",
        "print(\"Third element:\", third_element)"
      ],
      "metadata": {
        "colab": {
          "base_uri": "https://localhost:8080/"
        },
        "id": "UrYippDRNkti",
        "outputId": "13068dd0-065f-4878-e2ec-e90e5b85d1b2"
      },
      "execution_count": 51,
      "outputs": [
        {
          "output_type": "stream",
          "name": "stdout",
          "text": [
            "Third element: 30\n"
          ]
        }
      ]
    },
    {
      "cell_type": "code",
      "source": [
        "# 27) Retrieve the element at index (1, 2) from the 2D NumPy array.\n",
        "\n",
        "import numpy as np\n",
        "arr_2d = np.array([[1, 2, 3], [4, 5, 6], [7, 8, 9]])\n",
        "element = arr_2d[1, 2]\n",
        "print(\"Element at index (1, 2):\", element)"
      ],
      "metadata": {
        "colab": {
          "base_uri": "https://localhost:8080/"
        },
        "id": "xv8dQr9XOCcN",
        "outputId": "3ad80c76-29a1-494c-8a8b-3f088471618e"
      },
      "execution_count": 49,
      "outputs": [
        {
          "output_type": "stream",
          "name": "stdout",
          "text": [
            "Element at index (1, 2): 6\n"
          ]
        }
      ]
    },
    {
      "cell_type": "code",
      "source": [
        "# 28) Using boolean indexing, extract elements greater than 5 from the given NumPy array.\n",
        "\n",
        "import numpy as np\n",
        "arr = np.array([3, 8, 2, 10, 5, 7])\n",
        "elements_greater_than_5 = arr[arr > 5]\n",
        "print(\"Elements greater than 5:\", elements_greater_than_5)"
      ],
      "metadata": {
        "colab": {
          "base_uri": "https://localhost:8080/"
        },
        "id": "Wgx7jOHVONSx",
        "outputId": "d5c473d3-8ebf-4fbf-aaf5-2fb4cf13cbaa"
      },
      "execution_count": 50,
      "outputs": [
        {
          "output_type": "stream",
          "name": "stdout",
          "text": [
            "Elements greater than 5: [ 8 10  7]\n"
          ]
        }
      ]
    },
    {
      "cell_type": "code",
      "source": [
        "# 29) Perform basic slicing to extract elements from index 2 to 5 (inclusive) from the given NumPy array.\n",
        "\n",
        "import numpy as np\n",
        "arr = np.array([1, 2, 3, 4, 5, 6, 7, 8, 9])\n",
        "sliced_array = arr[2:6]\n",
        "print(\"Sliced array:\", sliced_array)"
      ],
      "metadata": {
        "colab": {
          "base_uri": "https://localhost:8080/"
        },
        "id": "7oIhmUzkOXwf",
        "outputId": "7d4ce413-f1a0-4bd0-f3fd-5649e406f967"
      },
      "execution_count": 53,
      "outputs": [
        {
          "output_type": "stream",
          "name": "stdout",
          "text": [
            "Sliced array: [3 4 5 6]\n"
          ]
        }
      ]
    },
    {
      "cell_type": "code",
      "source": [
        "# 30) Slice the 2D NumPy array to extract the sub-array `[[2, 3], [5, 6]]` from the given array.\n",
        "\n",
        "import numpy as np\n",
        "arr_2d = np.array([[1, 2, 3], [4, 5, 6], [7, 8, 9]])\n",
        "sub_array = arr_2d[1:3, 1:3]\n",
        "print(\"Sub-array:\", sub_array)"
      ],
      "metadata": {
        "colab": {
          "base_uri": "https://localhost:8080/"
        },
        "id": "Z1933KMcPHbK",
        "outputId": "7ba2e23f-f21c-4329-8b94-c66f9d760cb6"
      },
      "execution_count": 54,
      "outputs": [
        {
          "output_type": "stream",
          "name": "stdout",
          "text": [
            "Sub-array: [[5 6]\n",
            " [8 9]]\n"
          ]
        }
      ]
    },
    {
      "cell_type": "code",
      "source": [
        "# 31) Write a NumPy function to extract elements in specific order from a given 2D array based on indices provided in another array.\n",
        "\n",
        "import numpy as np\n",
        "def extract_elements(array, indices):\n",
        "    return array[indices]\n",
        "arr = np.array([[1, 2, 3], [4, 5, 6], [7, 8, 9]])\n",
        "indices = np.array([[0, 1], [1, 2]])\n",
        "result = extract_elements(arr, indices)\n",
        "print(result)"
      ],
      "metadata": {
        "colab": {
          "base_uri": "https://localhost:8080/"
        },
        "id": "afxzp_U0PRf3",
        "outputId": "f3a0ccef-2594-4812-e695-5859b1b07b8e"
      },
      "execution_count": 55,
      "outputs": [
        {
          "output_type": "stream",
          "name": "stdout",
          "text": [
            "[[[1 2 3]\n",
            "  [4 5 6]]\n",
            "\n",
            " [[4 5 6]\n",
            "  [7 8 9]]]\n"
          ]
        }
      ]
    },
    {
      "cell_type": "code",
      "source": [
        "# 32) Create a NumPy function that filters elements greater than a threshold from a given 1D array using boolean indexing.\n",
        "\n",
        "import numpy as np\n",
        "def filter_elements(array, threshold):\n",
        "    return array[array > threshold]\n",
        "array = np.array([1, 2, 3, 4, 5])\n",
        "threshold = 3\n",
        "filtered_array = filter_elements(array, threshold)\n",
        "print(filtered_array)"
      ],
      "metadata": {
        "colab": {
          "base_uri": "https://localhost:8080/"
        },
        "id": "1dbasz9kP5r8",
        "outputId": "fc2f8fa3-f18b-4913-c94c-4a64ddefb990"
      },
      "execution_count": 56,
      "outputs": [
        {
          "output_type": "stream",
          "name": "stdout",
          "text": [
            "[4 5]\n"
          ]
        }
      ]
    },
    {
      "cell_type": "code",
      "source": [
        "# 33) Develop a NumPy function that extracts specific elements from a 3D array using indices provided in three separate arrays for each dimension.\n",
        "\n",
        "import numpy as np\n",
        "def extract_3d_elements(array, indices1, indices2, indices3):\n",
        "    return array[indices1, indices2, indices3]\n",
        "array = np.array([[[1, 2, 3], [4, 5, 6]], [[7, 8, 9], [10, 11, 12]]])\n",
        "print (array)"
      ],
      "metadata": {
        "colab": {
          "base_uri": "https://localhost:8080/"
        },
        "id": "RCjbuIptQGBy",
        "outputId": "8cf8a4c5-4f01-4317-b451-d887b79b78a0"
      },
      "execution_count": 66,
      "outputs": [
        {
          "output_type": "stream",
          "name": "stdout",
          "text": [
            "[[[ 1  2  3]\n",
            "  [ 4  5  6]]\n",
            "\n",
            " [[ 7  8  9]\n",
            "  [10 11 12]]]\n"
          ]
        }
      ]
    },
    {
      "cell_type": "code",
      "source": [
        "# 34) Write a NumPy function that returns elements from an array where both two conditions are satisfied using boolean indexing.\n",
        "\n",
        "import numpy as np\n",
        "def filter_elements_multiple_conditions(array, condition1, condition2):\n",
        "    return array[condition1 & condition2]\n",
        "array = np.array([1, 2, 3, 4, 5, 6, 7, 8, 9, 10])\n",
        "condition1 = (array % 2 == 0)\n",
        "print (condition1)\n",
        "condition2 = (array > 5)\n",
        "print (condition2)\n",
        "result = filter_elements_multiple_conditions(array, condition1, condition2)\n",
        "print(result)"
      ],
      "metadata": {
        "colab": {
          "base_uri": "https://localhost:8080/"
        },
        "id": "1rcn9gFmRHRT",
        "outputId": "b6de57a1-080f-44db-87ff-cdc150540c6f"
      },
      "execution_count": 68,
      "outputs": [
        {
          "output_type": "stream",
          "name": "stdout",
          "text": [
            "[False  True False  True False  True False  True False  True]\n",
            "[False False False False False  True  True  True  True  True]\n",
            "[ 6  8 10]\n"
          ]
        }
      ]
    },
    {
      "cell_type": "code",
      "source": [
        "# 35) Create a NumPy function that extracts elements from a 2D array using row and column indices provided in separate arrays.\n",
        "\n",
        "import numpy as np\n",
        "def extract_elements_row_col(array, row_indices, col_indices):\n",
        "    return array[row_indices, col_indices]\n",
        "array = np.array([[1, 2, 3], [4, 5, 6], [7, 8, 9]])\n",
        "row_indices = np.array([0, 1])\n",
        "col_indices = np.array([1, 2])\n",
        "result = extract_elements_row_col(array, row_indices, col_indices)\n",
        "print(result)"
      ],
      "metadata": {
        "colab": {
          "base_uri": "https://localhost:8080/"
        },
        "id": "X2zN97vmRdVZ",
        "outputId": "d1a926ca-491f-467c-b3a8-5a9222d0e585"
      },
      "execution_count": 69,
      "outputs": [
        {
          "output_type": "stream",
          "name": "stdout",
          "text": [
            "[2 6]\n"
          ]
        }
      ]
    },
    {
      "cell_type": "code",
      "source": [
        "# 36) Given an array arr of shape (3, 3), add a scalar value of 5 to each element using NumPy broadcasting.\n",
        "\n",
        "import numpy as np\n",
        "arr = np.array([[1, 2, 3], [4, 5, 6], [7, 8, 9]])\n",
        "result = arr + 5\n",
        "print(\"Result:\", result)"
      ],
      "metadata": {
        "colab": {
          "base_uri": "https://localhost:8080/"
        },
        "id": "WmsqwC_rRusJ",
        "outputId": "01fdae19-dd9d-44cc-b64b-3b3a8bbfc088"
      },
      "execution_count": 57,
      "outputs": [
        {
          "output_type": "stream",
          "name": "stdout",
          "text": [
            "Result: [[ 6  7  8]\n",
            " [ 9 10 11]\n",
            " [12 13 14]]\n"
          ]
        }
      ]
    },
    {
      "cell_type": "code",
      "source": [
        "# 37) Consider two arrays arr1 of shape (1, 3) and arr2 of shape (3, 4). Multiply each row of arr2 by the corresponding element in arr1 using NumPy broadcasting.\n",
        "\n",
        "import numpy as np\n",
        "\n",
        "arr1 = np.array([[1, 2, 3]])\n",
        "arr2 = np.array([[10, 20, 30, 40],\n",
        "                 [50, 60, 70, 80],\n",
        "                 [90, 100, 110, 120]])\n",
        "result = arr1.T * arr2\n",
        "print(result)"
      ],
      "metadata": {
        "colab": {
          "base_uri": "https://localhost:8080/"
        },
        "id": "xCUc58yKR35n",
        "outputId": "6a82d592-bc6c-40b2-c1f7-82d2058e363a"
      },
      "execution_count": 65,
      "outputs": [
        {
          "output_type": "stream",
          "name": "stdout",
          "text": [
            "[[ 10  20  30  40]\n",
            " [100 120 140 160]\n",
            " [270 300 330 360]]\n"
          ]
        }
      ]
    },
    {
      "cell_type": "code",
      "source": [
        "# 38) Given a 1D array arr1 of shape (1, 4) and a 2D array arr2 of shape (4, 3), add arr1 to each row of arr2 using NumPy broadcasting.\n",
        "\n",
        "import numpy as np\n",
        "arr1 = np.array([[1, 2, 3, 4]])\n",
        "arr2 = np.array([[1, 2, 3], [4, 5, 6], [7, 8, 9], [10, 11, 12]])\n",
        "result = arr1.T + arr2\n",
        "print(\"Result:\", result)"
      ],
      "metadata": {
        "colab": {
          "base_uri": "https://localhost:8080/"
        },
        "id": "DaACDHFCUWZ7",
        "outputId": "af91b148-17c4-485b-dede-4b153d61d098"
      },
      "execution_count": 77,
      "outputs": [
        {
          "output_type": "stream",
          "name": "stdout",
          "text": [
            "Result: [[ 2  3  4]\n",
            " [ 6  7  8]\n",
            " [10 11 12]\n",
            " [14 15 16]]\n"
          ]
        }
      ]
    },
    {
      "cell_type": "code",
      "source": [
        "# 39) Consider two arrays arr1 of shape (3, 1) and arr2 of shape (1, 3). Add these arrays using NumPy broadcasting.\n",
        "\n",
        "import numpy as np\n",
        "arr1 = np.array([[1], [2], [3]])\n",
        "arr2 = np.array([[1, 2, 3]])\n",
        "result = arr1 + arr2\n",
        "print(\"Result:\", result)"
      ],
      "metadata": {
        "colab": {
          "base_uri": "https://localhost:8080/"
        },
        "id": "47JyUrn1U6tN",
        "outputId": "ecf7dedd-95d0-4c43-f8e4-9c30d4e190ce"
      },
      "execution_count": 75,
      "outputs": [
        {
          "output_type": "stream",
          "name": "stdout",
          "text": [
            "Result: [[2 3 4]\n",
            " [3 4 5]\n",
            " [4 5 6]]\n"
          ]
        }
      ]
    },
    {
      "cell_type": "code",
      "source": [
        "# 40) Given arrays arr1 of shape (2, 3) and arr2 of shape (2, 2), perform multiplication using NumPy broadcasting. Handle the shape incompatibility.\n",
        "\n",
        "import numpy as np\n",
        "arr1 = np.array([[1, 2, 3], [4, 5, 6]])\n",
        "arr2 = np.array([[1, 2], [3, 4]])\n",
        "result = arr1[:, :, np.newaxis] * arr2[:, np.newaxis, :]\n",
        "print(\"Result:\", result)"
      ],
      "metadata": {
        "colab": {
          "base_uri": "https://localhost:8080/"
        },
        "id": "s9In6ArEVPqU",
        "outputId": "1ac9d95b-20bc-4396-e2a1-8b72cfd7b24d"
      },
      "execution_count": 78,
      "outputs": [
        {
          "output_type": "stream",
          "name": "stdout",
          "text": [
            "Result: [[[ 1  2]\n",
            "  [ 2  4]\n",
            "  [ 3  6]]\n",
            "\n",
            " [[12 16]\n",
            "  [15 20]\n",
            "  [18 24]]]\n"
          ]
        }
      ]
    },
    {
      "cell_type": "code",
      "source": [
        "# 41) Calculate column-wise mean for the given array:\n",
        "\n",
        "import numpy as  np\n",
        "arr = np.array([[1, 2, 3], [4, 5, 6]])\n",
        "column_means = np.mean(arr, axis=0)\n",
        "print(\"Column means:\", column_means)"
      ],
      "metadata": {
        "colab": {
          "base_uri": "https://localhost:8080/"
        },
        "id": "3Of8QbjqVi_V",
        "outputId": "c4968c6d-09db-49fa-e896-6d925c45ca92"
      },
      "execution_count": 79,
      "outputs": [
        {
          "output_type": "stream",
          "name": "stdout",
          "text": [
            "Column means: [2.5 3.5 4.5]\n"
          ]
        }
      ]
    },
    {
      "cell_type": "code",
      "source": [
        "# 42) Find maximum value in each row of the given array:\n",
        "\n",
        "import numpy as np\n",
        "arr = np.array([[1, 2, 3], [4, 5, 6]])\n",
        "row_max = np.max(arr, axis=1)\n",
        "print(\"Row maximums:\", row_max)"
      ],
      "metadata": {
        "colab": {
          "base_uri": "https://localhost:8080/"
        },
        "id": "jCYTKJ62Vv17",
        "outputId": "bdbb1fe5-b9f5-48b8-e0e9-283d1ee059f2"
      },
      "execution_count": 80,
      "outputs": [
        {
          "output_type": "stream",
          "name": "stdout",
          "text": [
            "Row maximums: [3 6]\n"
          ]
        }
      ]
    },
    {
      "cell_type": "code",
      "source": [
        "# 43) For the given array, find indices of maximum value in each column.\n",
        "\n",
        "import numpy as np\n",
        "arr = np.array([[1, 2, 3], [4, 5, 6]])\n",
        "column_max_indices = np.argmax(arr, axis=0)\n",
        "print(\"Column max indices:\", column_max_indices)"
      ],
      "metadata": {
        "colab": {
          "base_uri": "https://localhost:8080/"
        },
        "id": "0XjbzthRV2aV",
        "outputId": "c6513c82-d094-4b5e-bbce-53a470141401"
      },
      "execution_count": 81,
      "outputs": [
        {
          "output_type": "stream",
          "name": "stdout",
          "text": [
            "Column max indices: [1 1 1]\n"
          ]
        }
      ]
    },
    {
      "cell_type": "code",
      "source": [
        "# 44) For the given array, apply custom function to calculate moving sum along rows.\n",
        "\n",
        "import numpy as np\n",
        "arr = np.array([[1, 2, 3], [4, 5, 6]])\n",
        "def moving_sum(row):\n",
        "    return np.cumsum(row)\n",
        "moving_sums = np.apply_along_axis(moving_sum, axis=1, arr=arr)\n",
        "print(\"Moving sums:\", moving_sums)"
      ],
      "metadata": {
        "colab": {
          "base_uri": "https://localhost:8080/"
        },
        "id": "tSgWNw83V8K_",
        "outputId": "568e5b86-472c-4e2f-f48b-4f6012d1518e"
      },
      "execution_count": 82,
      "outputs": [
        {
          "output_type": "stream",
          "name": "stdout",
          "text": [
            "Moving sums: [[ 1  3  6]\n",
            " [ 4  9 15]]\n"
          ]
        }
      ]
    },
    {
      "cell_type": "code",
      "source": [
        "# 45) In the given array, check if all elements in each column are even.\n",
        "\n",
        "import numpy as np\n",
        "arr = np.array([[2, 4, 6], [3, 5, 7]])\n",
        "is_even = np.all(arr % 2 == 0, axis=0)\n",
        "print(\"All elements in each column are even:\", is_even)"
      ],
      "metadata": {
        "colab": {
          "base_uri": "https://localhost:8080/"
        },
        "id": "jBzD0Z0yWINM",
        "outputId": "6380bc5b-6747-4753-dd98-6c0d159cd64d"
      },
      "execution_count": 83,
      "outputs": [
        {
          "output_type": "stream",
          "name": "stdout",
          "text": [
            "All elements in each column are even: [False False False]\n"
          ]
        }
      ]
    },
    {
      "cell_type": "code",
      "source": [
        "# 46) Given a NumPy array arr, reshape it into a matrix of dimensions `m` rows and `n` columns. Return the reshaped matrix.\n",
        "\n",
        "import numpy as np\n",
        "def reshape_matrix(arr, m, n):\n",
        "    return arr.reshape(m, n)\n",
        "\n",
        "arr = np.array([1, 2, 3, 4, 5, 6])\n",
        "m = 2\n",
        "n = 3\n",
        "print(reshape_matrix(arr, m, n))"
      ],
      "metadata": {
        "colab": {
          "base_uri": "https://localhost:8080/"
        },
        "id": "0lDMYkT3WNtx",
        "outputId": "0cb56d1a-63f6-4045-f5bb-a153105ccc91"
      },
      "execution_count": 84,
      "outputs": [
        {
          "output_type": "stream",
          "name": "stdout",
          "text": [
            "[[1 2 3]\n",
            " [4 5 6]]\n"
          ]
        }
      ]
    },
    {
      "cell_type": "code",
      "source": [
        "# 47) Create a function that takes a matrix as input and returns the flattened array.\n",
        "\n",
        "import numpy as np\n",
        "def flatten_matrix(matrix):\n",
        "    return matrix.flatten()\n",
        "\n",
        "arr = np.array([1, 2, 3, 4, 5, 6])\n",
        "flattened_arr = flatten_matrix(arr)\n",
        "print(flattened_arr)"
      ],
      "metadata": {
        "colab": {
          "base_uri": "https://localhost:8080/"
        },
        "id": "ENr3CFn7WnQB",
        "outputId": "a2e5e721-f3b6-488c-ab28-35d838ce52d1"
      },
      "execution_count": 87,
      "outputs": [
        {
          "output_type": "stream",
          "name": "stdout",
          "text": [
            "[1 2 3 4 5 6]\n"
          ]
        }
      ]
    },
    {
      "cell_type": "code",
      "source": [
        "# 48) Write a function that concatenates two given arrays along a specified axis.\n",
        "\n",
        "import numpy as np\n",
        "def concatenate_arrays(array1, array2, axis):\n",
        "    return np.concatenate((array1, array2), axis=axis)\n",
        "arr1 = np.array([[1, 2, 3], [4, 5, 6]])\n",
        "arr2 = np.array([[7, 8, 9], [10, 11, 12]])\n",
        "result = concatenate_arrays(arr1, arr2, axis=0)\n",
        "print(result)"
      ],
      "metadata": {
        "colab": {
          "base_uri": "https://localhost:8080/"
        },
        "id": "SWs6TgGrXhbm",
        "outputId": "eb1f5067-c8e6-4278-98c0-1d4695916fde"
      },
      "execution_count": 90,
      "outputs": [
        {
          "output_type": "stream",
          "name": "stdout",
          "text": [
            "[[ 1  2  3]\n",
            " [ 4  5  6]\n",
            " [ 7  8  9]\n",
            " [10 11 12]]\n"
          ]
        }
      ]
    },
    {
      "cell_type": "code",
      "source": [
        "# 49) Create a function that splits an array into multiple sub-arrays along a specified axis.\n",
        "\n",
        "import numpy as np\n",
        "def split_array(array, num_splits, axis):\n",
        "    return np.split(array, num_splits, axis=axis)\n",
        "\n",
        "arr = np.array([[1, 2, 3], [4, 5, 6], [7, 8, 9]])\n",
        "print(split_array(arr, 3, 0))"
      ],
      "metadata": {
        "colab": {
          "base_uri": "https://localhost:8080/"
        },
        "id": "KCDMIn7WXx62",
        "outputId": "6fdf3478-1d96-4c5c-c3b2-6cee70504744"
      },
      "execution_count": 89,
      "outputs": [
        {
          "output_type": "stream",
          "name": "stdout",
          "text": [
            "[array([[1, 2, 3]]), array([[4, 5, 6]]), array([[7, 8, 9]])]\n"
          ]
        }
      ]
    },
    {
      "cell_type": "code",
      "source": [
        "# 50) Write a function that inserts and then deletes elements from a given array at specified indices.\n",
        "\n",
        "import numpy as np\n",
        "def insert_and_delete(array, indices_to_insert, values_to_insert, indices_to_delete):\n",
        "    array = np.insert(array, indices_to_insert, values_to_insert)\n",
        "    array = np.delete(array, indices_to_delete)\n",
        "    return array\n",
        "\n",
        "arr1 = np.array([1, 2, 3, 4, 5])\n",
        "indices_to_insert = [1, 3]\n",
        "values_to_insert = [10, 20]\n",
        "indices_to_delete = [0, 2]\n",
        "result = insert_and_delete(arr1, indices_to_insert, values_to_insert, indices_to_delete)\n",
        "print(result)"
      ],
      "metadata": {
        "colab": {
          "base_uri": "https://localhost:8080/"
        },
        "id": "MxzqddcIYJQv",
        "outputId": "3edf9fb1-d055-4636-aa98-d1230bc597f8"
      },
      "execution_count": 91,
      "outputs": [
        {
          "output_type": "stream",
          "name": "stdout",
          "text": [
            "[10  3 20  4  5]\n"
          ]
        }
      ]
    },
    {
      "cell_type": "code",
      "source": [
        "# 51) Create a NumPy array `arr1` with random integers and another array `arr2` with integers from 1 to 10. Perform element-wise addition between `arr1` and `arr2`.\n",
        "\n",
        "import numpy as np\n",
        "np.random.seed(42)\n",
        "arr1 = np.random.randint(1, 100, size=10)\n",
        "arr2 = np.arange(1, 11)\n",
        "result = arr1 + arr2\n",
        "print(\"Element-wise addition:\", result)"
      ],
      "metadata": {
        "colab": {
          "base_uri": "https://localhost:8080/"
        },
        "id": "ykkCFaSoYZiy",
        "outputId": "7b352afd-3ee5-43be-90fb-96214378eb8c"
      },
      "execution_count": 93,
      "outputs": [
        {
          "output_type": "stream",
          "name": "stdout",
          "text": [
            "Element-wise addition: [53 95 18 76 66 27 90 95 84 85]\n"
          ]
        }
      ]
    },
    {
      "cell_type": "code",
      "source": [
        "# 52) Generate a NumPy array `arr1` with sequential integers from 10 to 1 and another array `arr2` with integers from 1 to 10. Subtract `arr2` from `arr1` element-wise.\n",
        "\n",
        "import numpy as np\n",
        "arr1 = np.arange(10, 0, -1)\n",
        "arr2 = np.arange(1, 11)\n",
        "result = arr1 - arr2\n",
        "print(\"Element-wise subtraction:\", result)"
      ],
      "metadata": {
        "colab": {
          "base_uri": "https://localhost:8080/"
        },
        "id": "Nmos68QRYj2s",
        "outputId": "2c5c61c9-59a4-460c-eb8b-3c5999be3d68"
      },
      "execution_count": 94,
      "outputs": [
        {
          "output_type": "stream",
          "name": "stdout",
          "text": [
            "Element-wise subtraction: [ 9  7  5  3  1 -1 -3 -5 -7 -9]\n"
          ]
        }
      ]
    },
    {
      "cell_type": "code",
      "source": [
        "# 53) Create a NumPy array `arr1` with random integers and another array `arr2` with integers from 1 to 5. Perform element-wise multiplication between `arr1` and `arr2`.\n",
        "\n",
        "import numpy as np\n",
        "np.random.seed(42)\n",
        "arr1 = np.random.randint(1, 100, size=5)\n",
        "arr2 = np.arange(1, 6)\n",
        "result = arr1 * arr2\n",
        "print(\"Element-wise multiplication:\", result)"
      ],
      "metadata": {
        "colab": {
          "base_uri": "https://localhost:8080/"
        },
        "id": "8bnRKAlxYvX3",
        "outputId": "44d5aedc-6c70-4c5c-bb72-ac0c0c048fab"
      },
      "execution_count": 99,
      "outputs": [
        {
          "output_type": "stream",
          "name": "stdout",
          "text": [
            "Element-wise multiplication: [ 52 186  45 288 305]\n"
          ]
        }
      ]
    },
    {
      "cell_type": "code",
      "source": [
        "# 54) Generate a NumPy array `arr1` with even integers from 2 to 10 and another array `arr2` with integers from 1 to 5. Perform element-wise division of `arr1` by `arr2`.\n",
        "\n",
        "import numpy as np\n",
        "arr1 = np.arange(2, 11, 2)\n",
        "arr2 = np.arange(1, 6)\n",
        "result = arr1 / arr2\n",
        "print(\"Element-wise division:\", result)"
      ],
      "metadata": {
        "colab": {
          "base_uri": "https://localhost:8080/"
        },
        "id": "YYGFurrOZJUj",
        "outputId": "c73a7204-14ac-4796-f7e4-ce7a81ade7c1"
      },
      "execution_count": 100,
      "outputs": [
        {
          "output_type": "stream",
          "name": "stdout",
          "text": [
            "Element-wise division: [2. 2. 2. 2. 2.]\n"
          ]
        }
      ]
    },
    {
      "cell_type": "code",
      "source": [
        "# 55) Create a NumPy array `arr1` with integers from 1 to 5 and another array `arr2` with the same numbers reversed. Calculate the exponentiation of `arr1` raised to the power of `arr2` element-wise.\n",
        "\n",
        "import numpy as np\n",
        "arr1 = np.arange(1, 6)\n",
        "arr2 = np.arange(5, 0, -1)\n",
        "result = np.power(arr1, arr2)\n",
        "print(\"Element-wise exponentiation:\", result)"
      ],
      "metadata": {
        "colab": {
          "base_uri": "https://localhost:8080/"
        },
        "id": "69tlzGZxZR31",
        "outputId": "50b298ee-c3ac-4ffe-8273-75764cc44f0d"
      },
      "execution_count": 102,
      "outputs": [
        {
          "output_type": "stream",
          "name": "stdout",
          "text": [
            "Element-wise exponentiation: [ 1 16 27 16  5]\n"
          ]
        }
      ]
    },
    {
      "cell_type": "code",
      "source": [
        "# 56) Write a function that counts the occurrences of a specific substring within a NumPy array of strings.\n",
        "\n",
        "import numpy as np\n",
        "\n",
        "def count_substring_occurrences(arr, substring):\n",
        "  # Use NumPy's char.count method to count occurrences in each string\n",
        "  counts = np.char.count(arr, substring)\n",
        "\n",
        "  # Sum the counts to get the total occurrences\n",
        "  total_occurrences = np.sum(counts)\n",
        "\n",
        "  return total_occurrences\n",
        "\n",
        "# Example usage\n",
        "arr = np.array(['hello', 'world', 'hello', 'numpy', 'hello'])\n",
        "substring = 'hello'\n",
        "\n",
        "occurrences = count_substring_occurrences(arr, substring)\n",
        "print(\"Number of occurrences of 'hello':\", occurrences)"
      ],
      "metadata": {
        "colab": {
          "base_uri": "https://localhost:8080/"
        },
        "id": "-01RBGXFZbDK",
        "outputId": "c7a4f1f0-0fde-414f-b05e-3d9a6038fb90"
      },
      "execution_count": 103,
      "outputs": [
        {
          "output_type": "stream",
          "name": "stdout",
          "text": [
            "Number of occurrences of 'hello': 3\n"
          ]
        }
      ]
    },
    {
      "cell_type": "code",
      "source": [
        "# 57) Write a function that extracts uppercase characters from a NumPy array of strings.\n",
        "\n",
        "import numpy as np\n",
        "\n",
        "def extract_uppercase_characters(arr):\n",
        "\n",
        "  # Use np.char.upper to convert all characters to uppercase\n",
        "  uppercase_arr = np.char.upper(arr)\n",
        "\n",
        "  # Use np.char.isalpha and np.char.isupper to filter only uppercase letters\n",
        "  uppercase_characters = uppercase_arr[np.char.isalpha(uppercase_arr) & np.char.isupper(uppercase_arr)]\n",
        "\n",
        "  return uppercase_characters\n",
        "\n",
        "# Example usage\n",
        "arr = np.array(['Hello', 'World', 'OpenAI', 'GPT'])\n",
        "\n",
        "uppercase_chars = extract_uppercase_characters(arr)\n",
        "print(uppercase_chars)"
      ],
      "metadata": {
        "colab": {
          "base_uri": "https://localhost:8080/"
        },
        "id": "hq0to1VLZ37q",
        "outputId": "8b8c25a7-76b4-4193-b895-d459998625da"
      },
      "execution_count": 104,
      "outputs": [
        {
          "output_type": "stream",
          "name": "stdout",
          "text": [
            "['HELLO' 'WORLD' 'OPENAI' 'GPT']\n"
          ]
        }
      ]
    },
    {
      "cell_type": "code",
      "source": [
        "# 58) Write a function that replaces occurrences of a substring in a NumPy array of strings with a new string.\n",
        "\n",
        "import numpy as np\n",
        "\n",
        "def replace_substring(arr, old_substring, new_substring):\n",
        "\n",
        "  # Use np.char.replace to replace the substring in each string\n",
        "  new_arr = np.char.replace(arr, old_substring, new_substring)\n",
        "\n",
        "  return new_arr\n",
        "\n",
        "# Example usage\n",
        "arr = np.array(['apple', 'banana', 'grape', 'pineapple'])\n",
        "old_substring = 'apple'\n",
        "new_substring = 'orange'\n",
        "\n",
        "new_array = replace_substring(arr, old_substring, new_substring)\n",
        "print(new_array)"
      ],
      "metadata": {
        "colab": {
          "base_uri": "https://localhost:8080/"
        },
        "id": "5s8UeW_MaKib",
        "outputId": "9d28bb27-c3d1-472a-b155-29f00723ba15"
      },
      "execution_count": 105,
      "outputs": [
        {
          "output_type": "stream",
          "name": "stdout",
          "text": [
            "['orange' 'banana' 'grape' 'pineorange']\n"
          ]
        }
      ]
    },
    {
      "cell_type": "code",
      "source": [
        "# 59) Write a function that concatenates strings in a NumPy array element-wise.\n",
        "\n",
        "import numpy as np\n",
        "\n",
        "def concatenate_strings(arr1, arr2):\n",
        "  # Use np.char.add to concatenate corresponding elements\n",
        "  concatenated_arr = np.char.add(arr1, arr2)\n",
        "\n",
        "  return concatenated_arr\n",
        "\n",
        "# Example usage\n",
        "arr1 = np.array(['Hello', 'World'])\n",
        "arr2 = np.array(['Open', 'AI'])\n",
        "\n",
        "concatenated_arr = concatenate_strings(arr1, arr2)\n",
        "print(concatenated_arr)"
      ],
      "metadata": {
        "colab": {
          "base_uri": "https://localhost:8080/"
        },
        "id": "IKLKj0yO4lKh",
        "outputId": "ad958e2c-c78e-498c-f6f9-8d1d3b0f0cfa"
      },
      "execution_count": 106,
      "outputs": [
        {
          "output_type": "stream",
          "name": "stdout",
          "text": [
            "['HelloOpen' 'WorldAI']\n"
          ]
        }
      ]
    },
    {
      "cell_type": "code",
      "source": [
        "# 60) Write a function that finds the length of the longest string in a NumPy array.\n",
        "\n",
        "import numpy as np\n",
        "\n",
        "def find_longest_string_length(arr):\n",
        "\n",
        "  # Use np.char.len to get the length of each string\n",
        "  string_lengths = np.char.str_len(arr)\n",
        "\n",
        "  # Find the maximum length using np.max\n",
        "  longest_string_length = np.max(string_lengths)\n",
        "\n",
        "  return longest_string_length\n",
        "\n",
        "# Example usage\n",
        "arr = np.array(['apple', 'banana', 'grape', 'pineapple'])\n",
        "\n",
        "longest_length = find_longest_string_length(arr)\n",
        "print(\"Length of the longest string:\", longest_length)"
      ],
      "metadata": {
        "colab": {
          "base_uri": "https://localhost:8080/"
        },
        "id": "HmmG4pYK4-IB",
        "outputId": "4022fcb8-5878-499a-c497-2c82a7047de2"
      },
      "execution_count": 108,
      "outputs": [
        {
          "output_type": "stream",
          "name": "stdout",
          "text": [
            "Length of the longest string: 9\n"
          ]
        }
      ]
    },
    {
      "cell_type": "code",
      "source": [
        "# 61) Create a dataset of 100 random integers between 1 and 1000. Compute the mean, median, variance, and standard deviation of the dataset using NumPy's functions.\n",
        "\n",
        "import numpy as np\n",
        "\n",
        "# Create a dataset of 100 random integers\n",
        "data = np.random.randint(1, 1001, size=100)\n",
        "\n",
        "# Calculate mean, median, variance, and standard deviation\n",
        "mean = np.mean(data)\n",
        "median = np.median(data)\n",
        "variance = np.var(data)\n",
        "std_dev = np.std(data)\n",
        "\n",
        "print(\"Mean:\", mean)\n",
        "print(\"Median:\", median)\n",
        "print(\"Variance:\", variance)\n",
        "print(\"Standard Deviation:\", std_dev)"
      ],
      "metadata": {
        "colab": {
          "base_uri": "https://localhost:8080/"
        },
        "id": "RtlHnR_K6GEg",
        "outputId": "951b3cb1-42a0-41ac-874b-bd6102e09d70"
      },
      "execution_count": 111,
      "outputs": [
        {
          "output_type": "stream",
          "name": "stdout",
          "text": [
            "Mean: 489.35\n",
            "Median: 475.5\n",
            "Variance: 83008.90749999999\n",
            "Standard Deviation: 288.11266459494624\n"
          ]
        }
      ]
    },
    {
      "cell_type": "code",
      "source": [
        "# 62) Generate an array of 50 random numbers between 1 and 100. Find the 25th and 75th percentiles of the dataset.\n",
        "\n",
        "import numpy as np\n",
        "# Generate an array of 50 random numbers\n",
        "data = np.random.randint(1, 101, size=50)\n",
        "\n",
        "# Find the 25th and 75th percentiles\n",
        "percentile_25 = np.percentile(data, 25)\n",
        "percentile_75 = np.percentile(data, 75)\n",
        "\n",
        "print(\"25th Percentile:\", percentile_25)\n",
        "print(\"75th Percentile:\", percentile_75)"
      ],
      "metadata": {
        "colab": {
          "base_uri": "https://localhost:8080/"
        },
        "id": "1-v05dIH6u4I",
        "outputId": "f5b8d262-3d14-43d9-9592-6e7ddc794853"
      },
      "execution_count": 113,
      "outputs": [
        {
          "output_type": "stream",
          "name": "stdout",
          "text": [
            "25th Percentile: 28.0\n",
            "75th Percentile: 76.5\n"
          ]
        }
      ]
    },
    {
      "cell_type": "code",
      "source": [
        "# 63) Create two arrays representing two sets of variables. Compute the correlation coefficient between these arrays using NumPy's corrcoef function.\n",
        "\n",
        "import numpy as np\n",
        "# Create two arrays\n",
        "x = np.array([1, 2, 3, 4, 5])\n",
        "y = np.array([2, 4, 5, 4, 5])\n",
        "\n",
        "# Calculate correlation coefficient\n",
        "correlation = np.corrcoef(x, y)[0, 1]\n",
        "\n",
        "print(\"Correlation Coefficient:\", correlation)"
      ],
      "metadata": {
        "colab": {
          "base_uri": "https://localhost:8080/"
        },
        "id": "zrrldz5E7MX1",
        "outputId": "1e72150d-6c7a-4995-cc1b-c2e1a7fe6a2c"
      },
      "execution_count": 114,
      "outputs": [
        {
          "output_type": "stream",
          "name": "stdout",
          "text": [
            "Correlation Coefficient: 0.7745966692414834\n"
          ]
        }
      ]
    },
    {
      "cell_type": "code",
      "source": [
        "# 64) Create two matrices and perform matrix multiplication using NumPy's dot function.\n",
        "\n",
        "import numpy as np\n",
        "# Create two matrices\n",
        "matrix1 = np.array([[1, 2], [3, 4]])\n",
        "matrix2 = np.array([[5, 6], [7, 8]])\n",
        "\n",
        "# Perform matrix multiplication\n",
        "result = np.dot(matrix1, matrix2)\n",
        "\n",
        "print(\"Result of matrix multiplication:\", result)"
      ],
      "metadata": {
        "colab": {
          "base_uri": "https://localhost:8080/"
        },
        "id": "B2YlEJuF7e-L",
        "outputId": "a86fb89a-9f81-4357-84bf-c4ae4872a00f"
      },
      "execution_count": 115,
      "outputs": [
        {
          "output_type": "stream",
          "name": "stdout",
          "text": [
            "Result of matrix multiplication: [[19 22]\n",
            " [43 50]]\n"
          ]
        }
      ]
    },
    {
      "cell_type": "code",
      "source": [
        "# 65) Create an array of 50 integers between 10 and 1000. Calculate the 10th, 50th (median), and 90th percentiles along with the first and third quartiles.\n",
        "\n",
        "import numpy as np\n",
        "# Create an array of 50 integers\n",
        "data = np.random.randint(10, 1001, size=50)\n",
        "\n",
        "# Calculate percentiles and quartiles\n",
        "percentile_10 = np.percentile(data, 10)\n",
        "percentile_50 = np.median(data)\n",
        "percentile_90 = np.percentile(data, 90)\n",
        "quartile_1 = np.percentile(data, 25)\n",
        "quartile_3 = np.percentile(data, 75)\n",
        "\n",
        "print(\"10th Percentile:\", percentile_10)\n",
        "print(\"Median:\", percentile_50)\n",
        "print(\"90th Percentile:\", percentile_90)\n",
        "print(\"First Quartile:\", quartile_1)\n",
        "print(\"Third Quartile:\", quartile_3)"
      ],
      "metadata": {
        "colab": {
          "base_uri": "https://localhost:8080/"
        },
        "id": "ZXV1rNz-7uGF",
        "outputId": "4daf9507-0534-455c-d712-369988bbf450"
      },
      "execution_count": 116,
      "outputs": [
        {
          "output_type": "stream",
          "name": "stdout",
          "text": [
            "10th Percentile: 239.4\n",
            "Median: 510.5\n",
            "90th Percentile: 836.3\n",
            "First Quartile: 359.75\n",
            "Third Quartile: 684.75\n"
          ]
        }
      ]
    },
    {
      "cell_type": "code",
      "source": [
        "# 66) Create a NumPy array of integers and find the index of a specific element.\n",
        "\n",
        "import numpy as np\n",
        "# Create a NumPy array\n",
        "arr = np.array([10, 20, 30, 40, 50])\n",
        "\n",
        "# Find the index of a specific element\n",
        "index = np.where(arr == 30)[0][0]\n",
        "\n",
        "print(\"Index of 30:\", index)"
      ],
      "metadata": {
        "colab": {
          "base_uri": "https://localhost:8080/"
        },
        "id": "wAiJZO4Q7-S-",
        "outputId": "cac3e54d-1766-4920-a0d3-e5669b5ba4dc"
      },
      "execution_count": 117,
      "outputs": [
        {
          "output_type": "stream",
          "name": "stdout",
          "text": [
            "Index of 30: 2\n"
          ]
        }
      ]
    },
    {
      "cell_type": "code",
      "source": [
        "# 67) Generate a random NumPy array and sort it in ascending order.\n",
        "\n",
        "import numpy as np\n",
        "# Generate a random NumPy array\n",
        "arr = np.random.randint(1, 101, size=10)\n",
        "\n",
        "# Sort the array in ascending order\n",
        "sorted_arr = np.sort(arr)\n",
        "\n",
        "print(\"Sorted array:\", sorted_arr)"
      ],
      "metadata": {
        "colab": {
          "base_uri": "https://localhost:8080/"
        },
        "id": "MiUmPRlV8M65",
        "outputId": "085ce85f-150e-4d1d-c572-2919e368971c"
      },
      "execution_count": 118,
      "outputs": [
        {
          "output_type": "stream",
          "name": "stdout",
          "text": [
            "Sorted array: [ 1  2  2 54 59 81 87 92 96 97]\n"
          ]
        }
      ]
    },
    {
      "cell_type": "code",
      "source": [
        "# 68) Filter elements >20 in the given NumPy array.\n",
        "\n",
        "import numpy as np\n",
        "\n",
        "arr = np.array([12, 25, 6, 42, 8, 30])\n",
        "\n",
        "# Filter elements > 20\n",
        "filtered_arr = arr[arr > 20]\n",
        "\n",
        "print(\"Filtered array:\", filtered_arr)"
      ],
      "metadata": {
        "colab": {
          "base_uri": "https://localhost:8080/"
        },
        "id": "tpRC3o-m8foz",
        "outputId": "7c01409f-45d0-4088-f855-0330702500fe"
      },
      "execution_count": 119,
      "outputs": [
        {
          "output_type": "stream",
          "name": "stdout",
          "text": [
            "Filtered array: [25 42 30]\n"
          ]
        }
      ]
    },
    {
      "cell_type": "code",
      "source": [
        "# 69. Filter elements which are divisible by 3 from a given NumPy array.\n",
        "\n",
        "import numpy as np\n",
        "arr = np.array([1, 5, 8, 12, 15])\n",
        "\n",
        "# Filter elements divisible by 3\n",
        "filtered_arr = arr[arr % 3 == 0]\n",
        "\n",
        "print(\"Filtered array:\", filtered_arr)"
      ],
      "metadata": {
        "colab": {
          "base_uri": "https://localhost:8080/"
        },
        "id": "HPOysk_d8xxY",
        "outputId": "8b5789bb-e76d-4e3a-87d0-1aeb0105b0c7"
      },
      "execution_count": 121,
      "outputs": [
        {
          "output_type": "stream",
          "name": "stdout",
          "text": [
            "Filtered array: [12 15]\n"
          ]
        }
      ]
    },
    {
      "cell_type": "code",
      "source": [
        "# 70) Filter elements which are ≥ 20 and ≤ 40 from a given NumPy array.\n",
        "\n",
        "import numpy as np\n",
        "arr = np.array([10, 20, 30, 40, 50])\n",
        "\n",
        "# Filter elements between 20 and 40 (inclusive)\n",
        "filtered_arr = arr[(arr >= 20) & (arr <= 40)]\n",
        "\n",
        "print(\"Filtered array:\", filtered_arr)"
      ],
      "metadata": {
        "colab": {
          "base_uri": "https://localhost:8080/"
        },
        "id": "irxT0FW09MT4",
        "outputId": "850d7e69-f471-41c6-ee36-2871f16f3b94"
      },
      "execution_count": 122,
      "outputs": [
        {
          "output_type": "stream",
          "name": "stdout",
          "text": [
            "Filtered array: [20 30 40]\n"
          ]
        }
      ]
    },
    {
      "cell_type": "code",
      "source": [
        "# 71) For the given NumPy array, check its byte order using the dtype attribute byteorder.\n",
        "\n",
        "import numpy as np\n",
        "arr = np.array([1, 2, 3])\n",
        "\n",
        "# Check byte order\n",
        "byte_order = arr.dtype.byteorder\n",
        "\n",
        "print(\"Byte order:\", byte_order)"
      ],
      "metadata": {
        "colab": {
          "base_uri": "https://localhost:8080/"
        },
        "id": "8H3Dct549lRU",
        "outputId": "b89e3f6b-480e-40fa-efec-2d90c2d4a67c"
      },
      "execution_count": 124,
      "outputs": [
        {
          "output_type": "stream",
          "name": "stdout",
          "text": [
            "Byte order: =\n"
          ]
        }
      ]
    },
    {
      "cell_type": "code",
      "source": [
        "# 72) For the given NumPy array, perform byte swapping in place using byteswap().\n",
        "\n",
        "import numpy as np\n",
        "\n",
        "arr = np.array([1, 2, 3], dtype=np.int32)\n",
        "\n",
        "# Perform byte swapping in place\n",
        "arr.byteswap(True)\n",
        "\n",
        "print(\"Swapped array:\", arr)"
      ],
      "metadata": {
        "colab": {
          "base_uri": "https://localhost:8080/"
        },
        "id": "PoVmhT1f-EKu",
        "outputId": "143be401-68ee-41cd-ff05-7fe9215225f2"
      },
      "execution_count": 125,
      "outputs": [
        {
          "output_type": "stream",
          "name": "stdout",
          "text": [
            "Swapped array: [16777216 33554432 50331648]\n"
          ]
        }
      ]
    },
    {
      "cell_type": "code",
      "source": [
        "# 73) For the given NumPy array, swap its byte order without modifying the original array using newbyteorder().\n",
        "\n",
        "import numpy as np\n",
        "arr = np.array([1, 2, 3], dtype=np.int32)\n",
        "\n",
        "# Swap byte order without modifying original array\n",
        "swapped_arr = arr.newbyteorder()\n",
        "\n",
        "print(\"Swapped array:\", swapped_arr)"
      ],
      "metadata": {
        "colab": {
          "base_uri": "https://localhost:8080/"
        },
        "id": "6GX562P0-TcQ",
        "outputId": "43bf26ba-a17a-4074-add4-e6eddc123811"
      },
      "execution_count": 127,
      "outputs": [
        {
          "output_type": "stream",
          "name": "stdout",
          "text": [
            "Swapped array: [16777216 33554432 50331648]\n"
          ]
        }
      ]
    },
    {
      "cell_type": "code",
      "source": [
        "# 74) For the given NumPy array and swap its byte order conditionally based on system endianness using newbyteorder().\n",
        "\n",
        "import numpy as np\n",
        "arr = np.array([1, 2, 3], dtype=np.int32)\n",
        "\n",
        "# Swap byte order if system is little-endian\n",
        "if arr.dtype.byteorder == '<':\n",
        "    swapped_arr = arr.newbyteorder('>')\n",
        "else:\n",
        "    swapped_arr = arr.newbyteorder('<')\n",
        "\n",
        "print(\"Swapped array:\", swapped_arr)"
      ],
      "metadata": {
        "colab": {
          "base_uri": "https://localhost:8080/"
        },
        "id": "v76fvYgu-gxN",
        "outputId": "895bf13b-b07e-4bfb-e152-6f5a178b0a95"
      },
      "execution_count": 128,
      "outputs": [
        {
          "output_type": "stream",
          "name": "stdout",
          "text": [
            "Swapped array: [1 2 3]\n"
          ]
        }
      ]
    },
    {
      "cell_type": "code",
      "source": [
        "# 75) For the given NumPy array, check if byte swapping is necessary for the current system using dtype attribute byteorder.\n",
        "\n",
        "import numpy as np\n",
        "arr = np.array([1, 2, 3], dtype=np.int32)\n",
        "\n",
        "# Check if byte swapping is necessary\n",
        "is_little_endian = arr.dtype.byteorder == '<'\n",
        "\n",
        "if is_little_endian:\n",
        "    print(\"Byte swapping is necessary for little-endian systems.\")\n",
        "else:\n",
        "    print(\"Byte swapping is necessary for big-endian systems.\")"
      ],
      "metadata": {
        "colab": {
          "base_uri": "https://localhost:8080/"
        },
        "id": "TAQBH-Rf-x0g",
        "outputId": "b5ccae7e-f720-45a9-894d-8ec1f5d2a4dc"
      },
      "execution_count": 129,
      "outputs": [
        {
          "output_type": "stream",
          "name": "stdout",
          "text": [
            "Byte swapping is necessary for big-endian systems.\n"
          ]
        }
      ]
    },
    {
      "cell_type": "code",
      "source": [
        "# 76) Create a NumPy array arr1 with values from 1 to 10. Create a copy of arr1 named copy_arr and modify an element in copy_arr. Check if modifying copy_arr affects arr1.\n",
        "\n",
        "import numpy as np\n",
        "\n",
        "arr1 = np.arange(1, 11)\n",
        "copy_arr = arr1.copy()\n",
        "\n",
        "copy_arr[0] = 100\n",
        "print(\"arr1:\", arr1)\n",
        "print(\"copy_arr:\", copy_arr)"
      ],
      "metadata": {
        "colab": {
          "base_uri": "https://localhost:8080/"
        },
        "id": "bNmtwZhx_DpZ",
        "outputId": "3f136c50-9992-463e-ce04-09a15e6307b1"
      },
      "execution_count": 130,
      "outputs": [
        {
          "output_type": "stream",
          "name": "stdout",
          "text": [
            "arr1: [ 1  2  3  4  5  6  7  8  9 10]\n",
            "copy_arr: [100   2   3   4   5   6   7   8   9  10]\n"
          ]
        }
      ]
    },
    {
      "cell_type": "code",
      "source": [
        "# 77) Create a 2D NumPy array matrix of shape (3, 3) with random integers. Extract a slice view_slice from the matrix. Modify an element in view_slice and observe if it changes the original matrix.\n",
        "\n",
        "import numpy as np\n",
        "matrix = np.random.randint(1, 10, (3, 3))\n",
        "view_slice = matrix[1:, 1:]\n",
        "\n",
        "view_slice[0, 0] = 99\n",
        "print(\"matrix:\", matrix)"
      ],
      "metadata": {
        "colab": {
          "base_uri": "https://localhost:8080/"
        },
        "id": "6k4cDum1_bQC",
        "outputId": "b91f8102-ce5d-4440-eb56-bd3af49851c4"
      },
      "execution_count": 131,
      "outputs": [
        {
          "output_type": "stream",
          "name": "stdout",
          "text": [
            "matrix: [[ 3  2  5]\n",
            " [ 6 99  4]\n",
            " [ 7  8  1]]\n"
          ]
        }
      ]
    },
    {
      "cell_type": "code",
      "source": [
        "# 78) Create a NumPy array array_a of shape (4, 3) with sequential integers from 1 to 12. Extract a slice view_b from array_a and broadcast the addition of 5 to view_b. Check if it alters the original array_a.\n",
        "\n",
        "import numpy as np\n",
        "array_a = np.arange(1, 13).reshape(4, 3)\n",
        "view_b = array_a[1:, :]\n",
        "\n",
        "view_b += 5\n",
        "print(\"array_a:\", array_a)"
      ],
      "metadata": {
        "colab": {
          "base_uri": "https://localhost:8080/"
        },
        "id": "MKznByOc_paM",
        "outputId": "781c24d6-17c3-48e9-e8a3-4a817f9fc973"
      },
      "execution_count": 132,
      "outputs": [
        {
          "output_type": "stream",
          "name": "stdout",
          "text": [
            "array_a: [[ 1  2  3]\n",
            " [ 9 10 11]\n",
            " [12 13 14]\n",
            " [15 16 17]]\n"
          ]
        }
      ]
    },
    {
      "cell_type": "code",
      "source": [
        "# 79) Create a NumPy array orig_array of shape (2, 4) with values from 1 to 8. Create a reshaped view reshaped_view of shape (4, 2) from orig_array. Modify an element in reshaped_view and check if it reflects changes in the original orig_array.\n",
        "\n",
        "import numpy as np\n",
        "orig_array = np.arange(1, 9).reshape(2, 4)\n",
        "reshaped_view = orig_array.reshape(4, 2)\n",
        "\n",
        "reshaped_view[0, 0] = 99\n",
        "print(\"orig_array:\", orig_array)"
      ],
      "metadata": {
        "colab": {
          "base_uri": "https://localhost:8080/"
        },
        "id": "qYlojwoY_13j",
        "outputId": "4242b04a-f711-491d-a5f1-034f856c8263"
      },
      "execution_count": 133,
      "outputs": [
        {
          "output_type": "stream",
          "name": "stdout",
          "text": [
            "orig_array: [[99  2  3  4]\n",
            " [ 5  6  7  8]]\n"
          ]
        }
      ]
    },
    {
      "cell_type": "code",
      "source": [
        "# 80) Create a NumPy array data of shape (3, 4) with random integers. Extract a copy data_copy of elements greater than 5. Modify an element in data_copy and verify if it affects the original data.\n",
        "\n",
        "import numpy as np\n",
        "data = np.random.randint(1, 10, (3, 4))\n",
        "data_copy = data[data > 5].copy()\n",
        "\n",
        "data_copy[0] = 99\n",
        "print(\"data:\", data)"
      ],
      "metadata": {
        "colab": {
          "base_uri": "https://localhost:8080/"
        },
        "id": "qD0PkKTwAC1e",
        "outputId": "62db40bd-4ba0-44df-c0b2-bdd4ac3d58a7"
      },
      "execution_count": 134,
      "outputs": [
        {
          "output_type": "stream",
          "name": "stdout",
          "text": [
            "data: [[6 8 5 4]\n",
            " [2 6 6 1]\n",
            " [9 6 3 4]]\n"
          ]
        }
      ]
    },
    {
      "cell_type": "code",
      "source": [
        "# 81) Create two matrices A and B of identical shape containing integers and perform addition and subtraction operations between them.\n",
        "\n",
        "import numpy as np\n",
        "A = np.random.randint(1, 10, (3, 3))\n",
        "B = np.random.randint(1, 10, (3, 3))\n",
        "\n",
        "sum_matrix = A + B\n",
        "diff_matrix = A - B\n",
        "\n",
        "print(\"Sum matrix:\", sum_matrix)\n",
        "print(\"Difference matrix:\", diff_matrix)"
      ],
      "metadata": {
        "colab": {
          "base_uri": "https://localhost:8080/"
        },
        "id": "jkZg_GLDARno",
        "outputId": "fde3e16c-e169-4a72-d834-6c7111777bd1"
      },
      "execution_count": 135,
      "outputs": [
        {
          "output_type": "stream",
          "name": "stdout",
          "text": [
            "Sum matrix: [[12 10  5]\n",
            " [11  5 16]\n",
            " [13 11  8]]\n",
            "Difference matrix: [[-4 -4  1]\n",
            " [-5  3 -2]\n",
            " [-5  7 -6]]\n"
          ]
        }
      ]
    },
    {
      "cell_type": "code",
      "source": [
        "# 82) Generate two matrices C (3x2) and D (2x4) and perform matrix multiplication.\n",
        "\n",
        "import numpy as np\n",
        "C = np.random.randint(1, 10, (3, 2))\n",
        "D = np.random.randint(1, 10, (2, 4))\n",
        "\n",
        "product_matrix = np.dot(C, D)\n",
        "\n",
        "print(\"Product matrix:\", product_matrix)"
      ],
      "metadata": {
        "colab": {
          "base_uri": "https://localhost:8080/"
        },
        "id": "_3uuuYEXAe54",
        "outputId": "8798cb93-5fe6-4cd5-8987-fba83f0d667d"
      },
      "execution_count": 136,
      "outputs": [
        {
          "output_type": "stream",
          "name": "stdout",
          "text": [
            "Product matrix: [[66 78 36 42]\n",
            " [45 81 57 75]\n",
            " [19 23 11 13]]\n"
          ]
        }
      ]
    },
    {
      "cell_type": "code",
      "source": [
        "# 83) Create a matrix E and find its transpose.\n",
        "\n",
        "import numpy as np\n",
        "E = np.random.randint(1, 10, (3, 4))\n",
        "\n",
        "transpose_matrix = E.T\n",
        "\n",
        "print(\"Transpose matrix:\", transpose_matrix)"
      ],
      "metadata": {
        "colab": {
          "base_uri": "https://localhost:8080/"
        },
        "id": "FqKOq-lpAoZc",
        "outputId": "121be244-8b6f-44d2-92b1-e8dea616f152"
      },
      "execution_count": 137,
      "outputs": [
        {
          "output_type": "stream",
          "name": "stdout",
          "text": [
            "Transpose matrix: [[3 8 1]\n",
            " [4 1 8]\n",
            " [8 8 4]\n",
            " [6 4 6]]\n"
          ]
        }
      ]
    },
    {
      "cell_type": "code",
      "source": [
        "# 84) Generate a square matrix F and compute its determinant.\n",
        "\n",
        "import numpy as np\n",
        "F = np.random.randint(1, 10, (3, 3))\n",
        "\n",
        "determinant = np.linalg.det(F)\n",
        "\n",
        "print(\"Determinant:\", determinant)"
      ],
      "metadata": {
        "colab": {
          "base_uri": "https://localhost:8080/"
        },
        "id": "UWi8jUtMAyB9",
        "outputId": "0a5cfbb5-5d17-4856-b234-c8f0ac2cae77"
      },
      "execution_count": 138,
      "outputs": [
        {
          "output_type": "stream",
          "name": "stdout",
          "text": [
            "Determinant: -60.000000000000036\n"
          ]
        }
      ]
    },
    {
      "cell_type": "code",
      "source": [
        "# 85) Create a square matrix G and find its inverse.\n",
        "\n",
        "import numpy as np\n",
        "G = np.random.randint(1, 10, (3, 3))\n",
        "\n",
        "try:\n",
        "    inverse_matrix = np.linalg.inv(G)\n",
        "    print(\"Inverse matrix:\", inverse_matrix)\n",
        "except np.linalg.LinAlgError:\n",
        "    print(\"Matrix is singular and cannot be inverted.\")"
      ],
      "metadata": {
        "colab": {
          "base_uri": "https://localhost:8080/"
        },
        "id": "dMLPvH-PBAhf",
        "outputId": "20f0f1af-0989-4bb5-c2dc-a41963a8bfbc"
      },
      "execution_count": 139,
      "outputs": [
        {
          "output_type": "stream",
          "name": "stdout",
          "text": [
            "Inverse matrix: [[-0.41025641  0.84615385  0.07692308]\n",
            " [-0.30769231  0.38461538  0.30769231]\n",
            " [ 0.48717949 -0.69230769 -0.15384615]]\n"
          ]
        }
      ]
    },
    {
      "cell_type": "code",
      "source": [],
      "metadata": {
        "id": "i_7PLwM9BNb_"
      },
      "execution_count": null,
      "outputs": []
    }
  ]
}