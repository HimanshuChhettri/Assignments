{
  "nbformat": 4,
  "nbformat_minor": 0,
  "metadata": {
    "colab": {
      "provenance": [],
      "authorship_tag": "ABX9TyMBlqzagBQS5IWMUAjlXa0l"
    },
    "kernelspec": {
      "name": "python3",
      "display_name": "Python 3"
    },
    "language_info": {
      "name": "python"
    }
  },
  "cells": [
    {
      "cell_type": "code",
      "execution_count": null,
      "metadata": {
        "id": "0m195nqN7SrC",
        "colab": {
          "base_uri": "https://localhost:8080/"
        },
        "outputId": "90c9c8e6-aea3-4679-98f8-53303de9d8ba"
      },
      "outputs": [
        {
          "output_type": "stream",
          "name": "stdout",
          "text": [
            "!dlroW ,olleH\n"
          ]
        }
      ],
      "source": [
        "# (1) Write a code to reverse a string.\n",
        "\n",
        "def reverse_string(input_string):\n",
        "  return input_string[ : :-1]\n",
        "input_string=\"Hello, World!\"\n",
        "reversed_string=reverse_string(input_string)\n",
        "print(reversed_string)"
      ]
    },
    {
      "cell_type": "code",
      "source": [],
      "metadata": {
        "id": "mSNmnM7-TUjW"
      },
      "execution_count": null,
      "outputs": []
    },
    {
      "cell_type": "code",
      "source": [
        "# (2) Write a code to count the number of vowels in a string.\n",
        "\n",
        "def count_vowels(input_string):\n",
        "  vowels=\"aeiouAEIOU\"\n",
        "  count=0\n",
        "  for char in input_string:\n",
        "    if char in vowels:\n",
        "      count+=1\n",
        "  return count\n",
        "input_string=\"Hello, World!\"\n",
        "vowels_count=count_vowels(input_string)\n",
        "print(\"Number of Vowels\",vowels_count)"
      ],
      "metadata": {
        "id": "_zrCsuyJPlFS",
        "colab": {
          "base_uri": "https://localhost:8080/"
        },
        "outputId": "db7d6e9b-fec2-4c9b-d8e9-467b968b71e1"
      },
      "execution_count": null,
      "outputs": [
        {
          "output_type": "stream",
          "name": "stdout",
          "text": [
            "Number of Vowels 3\n"
          ]
        }
      ]
    },
    {
      "cell_type": "code",
      "source": [
        "# (3) Write a code to check if a given string is palindrome or not.\n",
        "\n",
        "def is_palindrome(input_string):\n",
        "  return input_string==input_string[ : :-1]\n",
        "input_string=\"level\"\n",
        "if is_palindrome(input_string):\n",
        "  print(\"The string is a Palindrome.\")\n",
        "else:\n",
        "  print(\"This string is not a Palindrome.\")"
      ],
      "metadata": {
        "id": "CmrNV0nsPtCt",
        "colab": {
          "base_uri": "https://localhost:8080/"
        },
        "outputId": "71e8ed67-092c-4aa1-a44a-e2dabf35af29"
      },
      "execution_count": null,
      "outputs": [
        {
          "output_type": "stream",
          "name": "stdout",
          "text": [
            "The string is a Palindrome.\n"
          ]
        }
      ]
    },
    {
      "cell_type": "code",
      "source": [
        "# (4) Write a code to check if two given strings are anagrams of each other.\n",
        "\n",
        "def are_anagrams(string1, string2):\n",
        "  string1=string1.lower()\n",
        "  string2=string2.lower()\n",
        "  return sorted(string1)==sorted(string2)\n",
        "string1='listen'\n",
        "string2='silent'\n",
        "if are_anagrams(string1, string2):\n",
        "  print(\"The strings are anagrams of each other.\")\n",
        "else:\n",
        "  print(\"The string are not anagrams of each other.\")"
      ],
      "metadata": {
        "id": "j7x7oWzNP8ji",
        "colab": {
          "base_uri": "https://localhost:8080/"
        },
        "outputId": "321f1965-7597-4a78-d6a6-fd61365aa6b7"
      },
      "execution_count": null,
      "outputs": [
        {
          "output_type": "stream",
          "name": "stdout",
          "text": [
            "The strings are anagrams of each other.\n"
          ]
        }
      ]
    },
    {
      "cell_type": "code",
      "source": [
        "# (5) Write a code to find all occurrences of a given substring within another string.\n",
        "\n",
        "def find_occurrences(main_stirng, substring):\n",
        "  occurrences=[]\n",
        "  index=main_string.find(substring)\n",
        "  while index!=-1:\n",
        "    occurrences.append(index)\n",
        "    index=main_string.find(substring,index+1)\n",
        "  return occurrences\n",
        "main_string=\"hellohellohellohello\"\n",
        "substring=\"hello\"\n",
        "result=find_occurrences(main_string,substring)\n",
        "print(\"Occurrences of '{}' in '{}';\".format(substring,main_string))"
      ],
      "metadata": {
        "id": "B3X597vTQGqm",
        "colab": {
          "base_uri": "https://localhost:8080/"
        },
        "outputId": "6f96230b-f5f0-4ca7-9256-fb0192c4fd4f"
      },
      "execution_count": null,
      "outputs": [
        {
          "output_type": "stream",
          "name": "stdout",
          "text": [
            "Occurrences of 'hello' in 'hellohellohellohello';\n"
          ]
        }
      ]
    },
    {
      "cell_type": "code",
      "source": [
        "# (6) Write a code to perform basic string compression using the counts of repeated characters.\n",
        "\n",
        "\n",
        "def compress_string(input_string):\n",
        "  compressed_string=\" \"\n",
        "  count = 1\n",
        "  prev_char=input_string[0]\n",
        "  for char in input_string[1: ]:\n",
        "    if char==prev_char:\n",
        "      count += 1\n",
        "    else:\n",
        "      compressed_string += prev_char + str(count)\n",
        "      prev_char=char\n",
        "      count=1\n",
        "      compressed_string += prev_char + str(count)\n",
        "    if len(compressed_string)<len(input_string):\n",
        "      return compressed_string\n",
        "    else:\n",
        "      return input_string\n",
        "input_string=\"aabbcccccaaa\"\n",
        "compressed_result=compress_string(input_string)\n",
        "print(\"Compressed string:\",compressed_result)"
      ],
      "metadata": {
        "id": "-8tZ4UjRQaQr",
        "colab": {
          "base_uri": "https://localhost:8080/"
        },
        "outputId": "59e53239-5c56-4c16-d49e-f0fb4d545b58"
      },
      "execution_count": null,
      "outputs": [
        {
          "output_type": "stream",
          "name": "stdout",
          "text": [
            "Compressed string:  \n"
          ]
        }
      ]
    },
    {
      "cell_type": "code",
      "source": [
        "# (7) Write a code to determine if a string has all unique characters.\n",
        "\n",
        "def has_unique_characters(input_string):\n",
        "  seen=set()\n",
        "  for char in input_string:\n",
        "    if char in seen:\n",
        "      return False\n",
        "    seen.add(char)\n",
        "  return True\n",
        "input_string=\"abcdefg\"\n",
        "if has_unique_characters(input_string):\n",
        "  print(\"The string has all unique characters.\")\n",
        "else:\n",
        "  print(\"The string does not have all unique characters.\")"
      ],
      "metadata": {
        "id": "6dIB0nSJQsm1",
        "colab": {
          "base_uri": "https://localhost:8080/"
        },
        "outputId": "c005962e-ce1f-4541-8433-1bc3eb213638"
      },
      "execution_count": null,
      "outputs": [
        {
          "output_type": "stream",
          "name": "stdout",
          "text": [
            "The string has all unique characters.\n"
          ]
        }
      ]
    },
    {
      "cell_type": "code",
      "source": [
        "# (8) Write a code to convert a given string to uppercase or lowercase.\n",
        "\n",
        "def convert_to_uppercase(input_string):\n",
        "  return input_string.upper()\n",
        "def convert_to_lowercase(input_string):\n",
        "  return input_string.lower()\n",
        "input_string=\"Hello, World!\"\n",
        "uppercase_result=convert_to_uppercase(input_string)\n",
        "lowercase_result=convert_to_lowercase(input_string)\n",
        "print(\"Uppercase:\",uppercase_result)\n",
        "print(\"Lowercase:\",lowercase_result)"
      ],
      "metadata": {
        "id": "YkQ5CwEIQ8sa",
        "colab": {
          "base_uri": "https://localhost:8080/"
        },
        "outputId": "e719bcaf-92d5-45b9-bfa9-b8fb264c4d42"
      },
      "execution_count": null,
      "outputs": [
        {
          "output_type": "stream",
          "name": "stdout",
          "text": [
            "Uppercase: HELLO, WORLD!\n",
            "Lowercase: hello, world!\n"
          ]
        }
      ]
    },
    {
      "cell_type": "code",
      "source": [
        "# (9) Write a code to count the number of words in a string.\n",
        "\n",
        "def count_words(input_string):\n",
        "  words=input_string.split()\n",
        "  return len(words)\n",
        "input_string=\"Hello, how are you?\"\n",
        "word_count=count_words(input_string)\n",
        "print(\"Number of words:\",word_count)"
      ],
      "metadata": {
        "id": "Cy3IxLcBRGIM",
        "colab": {
          "base_uri": "https://localhost:8080/"
        },
        "outputId": "c93b3b2c-eea1-4ffd-cbf0-89d84d1c9867"
      },
      "execution_count": null,
      "outputs": [
        {
          "output_type": "stream",
          "name": "stdout",
          "text": [
            "Number of words: 4\n"
          ]
        }
      ]
    },
    {
      "cell_type": "code",
      "source": [
        "# (10) Write a code to concatenate two strings without using the + operator.\n",
        "\n",
        "def concatenate_strings(str1,str2):\n",
        "  result=\" \".join([str1,str2])\n",
        "  return result\n",
        "string1=\"Hello\"\n",
        "string2=\"World\"\n",
        "concatenated_string=concatenate_strings(string1,string2)\n",
        "print(\"Concatenates String:\",concatenated_string)"
      ],
      "metadata": {
        "id": "mElSOqi4RWJv",
        "colab": {
          "base_uri": "https://localhost:8080/"
        },
        "outputId": "f8c6bef8-947c-4dae-dace-39fee08e2e24"
      },
      "execution_count": null,
      "outputs": [
        {
          "output_type": "stream",
          "name": "stdout",
          "text": [
            "Concatenates String: Hello World\n"
          ]
        }
      ]
    },
    {
      "cell_type": "code",
      "source": [
        "# (11) Write a code to remove all occurrences of a specific element from a list.\n",
        "\n",
        "def remove_elements(lst,element_to_remove):\n",
        "  while element_to_remove in lst:\n",
        "    lst.remove(element_to_remove)\n",
        "  return lst\n",
        "original_list=['a','b','c','b','d','b','e']\n",
        "element_to_remove='b'\n",
        "remove_elements(original_list,element_to_remove)\n",
        "print(\"Update lists:\",original_list)"
      ],
      "metadata": {
        "id": "6tU3slsbRokn",
        "colab": {
          "base_uri": "https://localhost:8080/"
        },
        "outputId": "1f5e5f85-5d8c-425f-d9c8-916bbd714f57"
      },
      "execution_count": null,
      "outputs": [
        {
          "output_type": "stream",
          "name": "stdout",
          "text": [
            "Update lists: ['a', 'c', 'd', 'e']\n"
          ]
        }
      ]
    },
    {
      "cell_type": "code",
      "source": [
        "# (12) Implement a code to find the second largest number in a given list of integers.\n",
        "\n",
        "def find_second_largest(numbers):\n",
        "  if len(numbers)<2:\n",
        "    return None\n",
        "  sorted_numbers = sorted(numbers)\n",
        "  return sorted_numbers[-2]\n",
        "numbers_list=[10,20,4,45,28]\n",
        "second_largest_number = find_second_largest(numbers_list)\n",
        "print(\"Second largest number:\",second_largest_number)"
      ],
      "metadata": {
        "id": "bHmOG7biR5Hr",
        "colab": {
          "base_uri": "https://localhost:8080/"
        },
        "outputId": "d5a21fba-081f-47a9-b4a2-3a13072f2f7d"
      },
      "execution_count": null,
      "outputs": [
        {
          "output_type": "stream",
          "name": "stdout",
          "text": [
            "Second largest number: 28\n"
          ]
        }
      ]
    },
    {
      "cell_type": "code",
      "source": [
        "# (13) Create a code to count the occurrences of each element in a list and return a dictionary with elements as keys and their counts as values.\n",
        "\n",
        "def count_occurrences(lst):\n",
        "  occurrences_dict = {}\n",
        "  for element in lst:\n",
        "    occurrences_dict[element] = occurrences_dict.get(element,0) + 1\n",
        "  return occurrences_dict\n",
        "elements_list=[\"apple\",\"banana\",\"apple\",\"banana\",\"orange\",\"banana\"]\n",
        "occurrences = count_occurrences(elements_list)\n",
        "print(\"Occurrences of each element:\",occurrences)"
      ],
      "metadata": {
        "id": "I-UvVDIDSJ4U",
        "colab": {
          "base_uri": "https://localhost:8080/"
        },
        "outputId": "fdf60c8e-7cc3-42a1-e1de-83b739821bc7"
      },
      "execution_count": null,
      "outputs": [
        {
          "output_type": "stream",
          "name": "stdout",
          "text": [
            "Occurrences of each element: {'apple': 2, 'banana': 3, 'orange': 1}\n"
          ]
        }
      ]
    },
    {
      "cell_type": "code",
      "source": [
        "# (15) Write a code to reverse a list in-place without using any build-in reverse functions.\n",
        "\n",
        "def reverse_list_in_place(lst):\n",
        "  left=0\n",
        "  right=len(lst)-1\n",
        "  while left<right:\n",
        "    lst[left], lst[right] = lst[right], lst[left]\n",
        "    left += 1\n",
        "    right -= 1\n",
        "my_list=[1,2,3,4,5]\n",
        "reverse_list_in_place(my_list)\n",
        "print(\"Reverse list:\",my_list)"
      ],
      "metadata": {
        "id": "rbFZCBJMSe-7",
        "colab": {
          "base_uri": "https://localhost:8080/"
        },
        "outputId": "6dc85ce4-20fa-4055-c56a-c1016257d176"
      },
      "execution_count": null,
      "outputs": [
        {
          "output_type": "stream",
          "name": "stdout",
          "text": [
            "Reverse list: [5, 4, 3, 2, 1]\n"
          ]
        }
      ]
    },
    {
      "cell_type": "code",
      "source": [
        "# (16) Implement a code to find and remove duplicates from a list while preserving the original order of elements.\n",
        "\n",
        "def remove_duplicates(lst):\n",
        "  unique_elements = []\n",
        "  seen = set()\n",
        "  for item in lst:\n",
        "    if item not in seen:\n",
        "      unique_elements.append(item)\n",
        "      seen.add(item)\n",
        "  return unique_elements\n",
        "original_list=[1,3,2,1,5,2,4,4,3]\n",
        "unique_list = remove_duplicates(original_list)\n",
        "print(\"List with duplicates removed:\", unique_list)"
      ],
      "metadata": {
        "id": "AMZzJJf_S47h",
        "colab": {
          "base_uri": "https://localhost:8080/"
        },
        "outputId": "8fe15298-56cc-448e-8deb-bc168cbd821a"
      },
      "execution_count": null,
      "outputs": [
        {
          "output_type": "stream",
          "name": "stdout",
          "text": [
            "List with duplicates removed: [1, 3, 2, 5, 4]\n"
          ]
        }
      ]
    },
    {
      "cell_type": "code",
      "source": [
        " # (17) Create a code to check if a given list is sorted (either in a ascending or descending oreder) or not.\n",
        "\n",
        "def is_sorted(lst):\n",
        "  if lst==sorted(lst):\n",
        "    return \"Ascending\"\n",
        "  elif lst == sorted(lst, reverse=True):\n",
        "    return \"Descending\"\n",
        "  else:\n",
        "    return \"Not Sorted\"\n",
        "ascending_list=[1,2,3,4,5]\n",
        "descending_list=[5,4,3,2,1]\n",
        "unsorted_list=[3,4,5,1,2]\n",
        "print(\"Ascending list:\",is_sorted(ascending_list))\n",
        "print(\"Descending list:\",is_sorted(descending_list))\n",
        "print(\"Unsorted list:\",is_sorted(unsorted_list))"
      ],
      "metadata": {
        "id": "7on9BHPeTP_F",
        "colab": {
          "base_uri": "https://localhost:8080/"
        },
        "outputId": "3fc7b264-0e7d-44f6-c3a0-fb228efc9e6e"
      },
      "execution_count": null,
      "outputs": [
        {
          "output_type": "stream",
          "name": "stdout",
          "text": [
            "Ascending list: Ascending\n",
            "Descending list: Descending\n",
            "Unsorted list: Not Sorted\n"
          ]
        }
      ]
    },
    {
      "cell_type": "code",
      "source": [
        "# (18) Write a code to merge two sorted lists into a single sorted list.\n",
        "\n",
        "def merged_sorted_lists(list1, list2):\n",
        "  merged_list =[]\n",
        "  while list1 and list2:\n",
        "    if list1[0]<list2[0]:\n",
        "      merged_list.append(list1.pop(0))\n",
        "    else:\n",
        "      merged_list.append(list2.pop(0))\n",
        "  return merged_list\n",
        "list1=[1,3,5,7,9,11]\n",
        "list2=[2,4,6,8,10]\n",
        "merged_list = merged_sorted_lists(list1, list2)\n",
        "print(\"Merged sorted lists:\", merged_list)"
      ],
      "metadata": {
        "id": "wfi7UiPqUXbT",
        "colab": {
          "base_uri": "https://localhost:8080/"
        },
        "outputId": "d060b200-974e-4f19-a073-c7d4165f1af6"
      },
      "execution_count": null,
      "outputs": [
        {
          "output_type": "stream",
          "name": "stdout",
          "text": [
            "Merged sorted lists: [1, 2, 3, 4, 5, 6, 7, 8, 9, 10]\n"
          ]
        }
      ]
    },
    {
      "cell_type": "code",
      "source": [
        "# (19) Implement a code to find the intersection of two given lists.\n",
        "\n",
        "def intersection_of_lists(list1, list2):\n",
        "  set1 = set(list1)\n",
        "  set2 = set(list2)\n",
        "  instruction = set1.intersection(set2)\n",
        "  return list(instruction)\n",
        "list1=[1,2,3,4,5]\n",
        "list2=[4,5,6,7,8]\n",
        "result = intersection_of_lists(list1, list2)\n",
        "print(\"Intersection of two lists:\", result)"
      ],
      "metadata": {
        "id": "G1QJfb8BVnrY",
        "colab": {
          "base_uri": "https://localhost:8080/"
        },
        "outputId": "52c578a5-e6fb-4813-b5e9-209b3e2153bf"
      },
      "execution_count": null,
      "outputs": [
        {
          "output_type": "stream",
          "name": "stdout",
          "text": [
            "Intersection of two lists: [4, 5]\n"
          ]
        }
      ]
    },
    {
      "cell_type": "code",
      "source": [
        "# (20) Create a code to find the union of two lists without duplicates.\n",
        "\n",
        "def uinon_of_lists(list1, list2):\n",
        "  result_set = set(list1)|set(list2)\n",
        "  return list(result_set)\n",
        "list1=[1,2,3,4,5]\n",
        "list2=[4,5,6,7,8]\n",
        "union_result = uinon_of_lists(list1, list2)\n",
        "print(\"Union of the two lists without duplicates :\",union_result)"
      ],
      "metadata": {
        "id": "iq2cvj73V0BK",
        "colab": {
          "base_uri": "https://localhost:8080/"
        },
        "outputId": "e050839a-0d8e-4ece-9490-fa2ee8aeb109"
      },
      "execution_count": null,
      "outputs": [
        {
          "output_type": "stream",
          "name": "stdout",
          "text": [
            "Union of the two lists without duplicates : [1, 2, 3, 4, 5, 6, 7, 8]\n"
          ]
        }
      ]
    },
    {
      "cell_type": "code",
      "source": [
        "# (21) Write a code that takes two tuples as input and returns a new tuple containing elements that are commom to both input tuples.\n",
        "\n",
        "def common_elements(tuple1, tuple2):\n",
        "  set1 = set(tuple1)\n",
        "  set2 = set(tuple2)\n",
        "  common_set = set1.intersection(set2)\n",
        "  return tuple(common_set)\n",
        "tuple1=(1,2,3,4,5)\n",
        "tuple2=(4,5,6,7,8)\n",
        "common_tuple = common_elements(tuple1, tuple2)\n",
        "print(\"Common elements tuple:\", common_tuple)"
      ],
      "metadata": {
        "id": "p8XAuAB5WOJV",
        "colab": {
          "base_uri": "https://localhost:8080/"
        },
        "outputId": "f4af528d-7468-4c19-bbbb-a40d6764ffdf"
      },
      "execution_count": null,
      "outputs": [
        {
          "output_type": "stream",
          "name": "stdout",
          "text": [
            "Common elements tuple: (4, 5)\n"
          ]
        }
      ]
    },
    {
      "cell_type": "code",
      "source": [
        "# (22) Write a code that prompts the user to enter two sets of integers separated by commas. Then, print the intersection of these two sets.\n",
        "\n",
        "def get_set_from_input():\n",
        "  input_str = input(\"Enter integers separated by commas: \")\n",
        "  integer_list = [int(x.strip()) for x in input_str.split(\",\")]\n",
        "  return set(integer_list)\n",
        "set1 = get_set_from_input()\n",
        "set2 = get_set_from_input()\n",
        "intersection_set = set1.intersection(set2)\n",
        "print(\"Intersection of the two sets:\",intersection_set)"
      ],
      "metadata": {
        "id": "5FCf2dw2Wm3p",
        "colab": {
          "base_uri": "https://localhost:8080/"
        },
        "outputId": "fda87360-750a-4f50-decf-2c8f40762470"
      },
      "execution_count": null,
      "outputs": [
        {
          "output_type": "stream",
          "name": "stdout",
          "text": [
            "Enter integers separated by commas: 1,2,3,4\n",
            "Enter integers separated by commas: 3,4,5,6\n",
            "Intersection of the two sets: {3, 4}\n"
          ]
        }
      ]
    },
    {
      "cell_type": "code",
      "source": [
        "# (23) Write a code to concatenate two tuples. The function should take two tuples as input and return a new tuple conntaining elements from both input tuples.\n",
        "\n",
        "def concatenate_tuples(tuple1, tuple2):\n",
        "  concatenate_tuple = tuple1 + tuple2\n",
        "  return concatenate_tuple\n",
        "tuple1=[1,2,3]\n",
        "tuple2=[4,5,6]\n",
        "concatenated_result = concatenate_tuples(tuple1, tuple2)\n",
        "print(\"Concatenated tuple:\",concatenated_result)"
      ],
      "metadata": {
        "id": "9g32cVmlXIfS",
        "colab": {
          "base_uri": "https://localhost:8080/"
        },
        "outputId": "5f231d33-23c5-48dc-d9c7-8ddb8fff0766"
      },
      "execution_count": null,
      "outputs": [
        {
          "output_type": "stream",
          "name": "stdout",
          "text": [
            "Concatenated tuple: [1, 2, 3, 4, 5, 6]\n"
          ]
        }
      ]
    },
    {
      "cell_type": "code",
      "source": [
        "# (24) Develop a code that prompts the user to input two sets of strings. Then, print the elements that are present in the first set but not in the second set.\n",
        "\n",
        "def get_set_from_input():\n",
        "  input_str = input(\"Enter strings separated by commas: \")\n",
        "  return set(input_str.split(\",\"))\n",
        "set1 = get_set_from_input()\n",
        "set2 = get_set_from_input()\n",
        "difference_set = set1 - set2\n",
        "print(\"Elements present in the first set but not in the second set:\", difference_set)"
      ],
      "metadata": {
        "id": "ov3nNND2Xh0q",
        "colab": {
          "base_uri": "https://localhost:8080/"
        },
        "outputId": "759da460-7927-4f40-efca-d895bff29ee2"
      },
      "execution_count": null,
      "outputs": [
        {
          "output_type": "stream",
          "name": "stdout",
          "text": [
            "Enter strings separated by commas: apple,banana,mango,orange\n",
            "Enter strings separated by commas: banana,orange,kiwi\n",
            "Elements present in the first set but not in the second set: {'mango', 'apple'}\n"
          ]
        }
      ]
    },
    {
      "cell_type": "code",
      "source": [
        "# (25) Create a code that takes a tuple and two integers as input. The function should return a new tuple containing elements from the original tuple within the specified range of indices.\n",
        "\n",
        "def get_elements_within_range(input_tuple, start_index, end_index):\n",
        "  return input_tuple[start_index : end_index+1]\n",
        "input_tuple = (1,2,3,4,5,6,7,8,9)\n",
        "start_index = 2\n",
        "end_index = 5\n",
        "result_tuple = get_elements_within_range(input_tuple, start_index, end_index)\n",
        "print(\"New tuple containing elelments within the specified range:\", result_tuple)"
      ],
      "metadata": {
        "id": "z8W1hDiHX8Ke",
        "colab": {
          "base_uri": "https://localhost:8080/"
        },
        "outputId": "c4b6fd2d-2998-4b11-c47f-cdce57b0fb78"
      },
      "execution_count": null,
      "outputs": [
        {
          "output_type": "stream",
          "name": "stdout",
          "text": [
            "New tuple containing elelments within the specified range: (3, 4, 5, 6)\n"
          ]
        }
      ]
    },
    {
      "cell_type": "code",
      "source": [
        "# (26) Write a code that prompts the user to input two sets of characters. Then, print the union of these two sets.\n",
        "\n",
        "def get_set_from_input():\n",
        "  input_str = input(\"Enter characters separated by commas: \")\n",
        "  return set(input_str.split(\",\"))\n",
        "set1 = get_set_from_input()\n",
        "set2 = get_set_from_input()\n",
        "union_set = set1.union(set2)\n",
        "print(\"Union of the two sets:\",union_set)"
      ],
      "metadata": {
        "id": "VutePcd7YcEd",
        "colab": {
          "base_uri": "https://localhost:8080/"
        },
        "outputId": "64631365-42f5-47b8-f99d-776c162a709e"
      },
      "execution_count": null,
      "outputs": [
        {
          "output_type": "stream",
          "name": "stdout",
          "text": [
            "Enter characters separated by commas: a,b,c\n",
            "Enter characters separated by commas: b,c,d\n",
            "Union of the two sets: {'b', 'c', 'a', 'd'}\n"
          ]
        }
      ]
    },
    {
      "cell_type": "code",
      "source": [
        "# (27) Develop a code that takes a tuple of integers as input. The function should return the maximum and minimum values from the tuple using tuple unpacking.\n",
        "\n",
        "def find_max_min(input_tuple):\n",
        "  max_value = max(input_tuple)\n",
        "  min_value = min(input_tuple)\n",
        "  return max_value, min_value\n",
        "input_value = (3,7,2,9,5)\n",
        "max_value, min_value = find_max_min(input_value)\n",
        "print(\"Maxmium value:\",max_value)\n",
        "print(\"Minimum value:\",min_value)"
      ],
      "metadata": {
        "id": "i1JNjipnYu03",
        "colab": {
          "base_uri": "https://localhost:8080/"
        },
        "outputId": "acc2b4fe-8432-458b-9e63-2ad4082e5911"
      },
      "execution_count": null,
      "outputs": [
        {
          "output_type": "stream",
          "name": "stdout",
          "text": [
            "Maxmium value: 9\n",
            "Minimum value: 2\n"
          ]
        }
      ]
    },
    {
      "cell_type": "code",
      "source": [
        "# (28) Create a code that defines two sets of inntegers. Then, print the union, intersection, and difference of these two sets.\n",
        "\n",
        "set1 = {1,2,3,4,5}\n",
        "set2 = {4,5,6,7,8}\n",
        "print(\"Union of the two sets:\",set1.union(set2))\n",
        "print(\"Intersection of the two sets:\",set1.intersection(set2))\n",
        "print(\"Difference (set1 - set2):\",set1 - set2)\n",
        "print(\"Difference (set2 - set1):\",set2 - set1)"
      ],
      "metadata": {
        "id": "fg2JX-ZtZK7F",
        "colab": {
          "base_uri": "https://localhost:8080/"
        },
        "outputId": "a182a3f2-2fb7-4acb-aff0-24da7a18ed97"
      },
      "execution_count": null,
      "outputs": [
        {
          "output_type": "stream",
          "name": "stdout",
          "text": [
            "Union of the two sets: {1, 2, 3, 4, 5, 6, 7, 8}\n",
            "Intersection of the two sets: {4, 5}\n",
            "Difference (set1 - set2): {1, 2, 3}\n",
            "Difference (set2 - set1): {8, 6, 7}\n"
          ]
        }
      ]
    },
    {
      "cell_type": "code",
      "source": [
        "# (29) Write a code that takes a tuple and an element as input. The function should return the count of occurrences of the given element in the tuple.\n",
        "\n",
        "def count_occurrences(input_tuple,element):\n",
        "  return input_tuple.count(element)\n",
        "input_tuple = (1,2,3,4,2,2,5)\n",
        "element = 2\n",
        "occurrences_count = count_occurrences(input_tuple, element)\n",
        "print(\"Count of occurrences of\", element,\"in the tuple:\",occurrences_count)"
      ],
      "metadata": {
        "id": "4j2_jE2JZcdk",
        "colab": {
          "base_uri": "https://localhost:8080/"
        },
        "outputId": "3a4d0416-2c19-4863-9bcc-397faab04f1f"
      },
      "execution_count": null,
      "outputs": [
        {
          "output_type": "stream",
          "name": "stdout",
          "text": [
            "Count of occurrences of 2 in the tuple: 3\n"
          ]
        }
      ]
    },
    {
      "cell_type": "code",
      "source": [
        "# (30) Develop a code that prompts the user to input two sets of strings. Then, print the sysmmetric difference of these two sets.\n",
        "\n",
        "def get_set_from_input():\n",
        "  input_str = input(\"Enter strings seperated by commas: \")\n",
        "  return set(input_str.split(\",\"))\n",
        "set1 = get_set_from_input()\n",
        "set2 = get_set_from_input()\n",
        "symmetric_difference_set = set1.symmetric_difference(set2)\n",
        "print(\"Symmetric diffrence of the two sets:\",symmetric_diffrence_set)"
      ],
      "metadata": {
        "id": "SK4xY7IZaPGy",
        "colab": {
          "base_uri": "https://localhost:8080/"
        },
        "outputId": "a2fa6426-bd45-41ad-ff0b-46ee5a7c7226"
      },
      "execution_count": null,
      "outputs": [
        {
          "name": "stdout",
          "output_type": "stream",
          "text": [
            "Enter strings seperated by commas: apple,kiwi,mango,orange\n"
          ]
        }
      ]
    },
    {
      "cell_type": "code",
      "source": [
        "# (31) Write a code that takes two dictionaries as input and returns a dictionary where the keys are unique words and the values are the frequencies of those words in the input list.\n",
        "\n",
        "def word_frequency(input_list):\n",
        "  frequency_dict={}\n",
        "  for word in input_list:\n",
        "    frequency_dict[word] = frequency_dict.get(word, 0)+1\n",
        "  return frequency_dict\n",
        "input_list = [\"apple\",\"banana\",\"apple\",\"orange\",\"banana\",\"apple\"]\n",
        "frequency_result = word_frequency(input_list)\n",
        "print(\"Word frequency dictionary:\",frequency_result)"
      ],
      "metadata": {
        "id": "lLDVaciea60E",
        "colab": {
          "base_uri": "https://localhost:8080/"
        },
        "outputId": "c4091746-fc94-453a-a746-0b99080f7269"
      },
      "execution_count": null,
      "outputs": [
        {
          "output_type": "stream",
          "name": "stdout",
          "text": [
            "Word frequency dictionary: {'apple': 3, 'banana': 2, 'orange': 1}\n"
          ]
        }
      ]
    },
    {
      "cell_type": "code",
      "source": [
        "# (32) Write a code that takes two dictionaries as input and merge them into a single dictionary. if there are common keys, the values should be added together.\n",
        "\n",
        "def merge_dict(dict1, dict2):\n",
        "  merged_dict = dict(dict1)\n",
        "  for key, value in dict2.items():\n",
        "    if key in merged_dict:\n",
        "      merged_dict[key] += value\n",
        "    else:\n",
        "      merged_dict[key] = value\n",
        "  return merged_dict\n",
        "dict1 = {'a':5, 'b':2, 'c':3}\n",
        "dict2 = {'a':3, 'b':1, 'c':4}\n",
        "merged_result = merge_dict(dict1, dict2)\n",
        "print(\"Merged dictionary:\",merged_result)"
      ],
      "metadata": {
        "id": "0yYNXim9bgR4",
        "colab": {
          "base_uri": "https://localhost:8080/"
        },
        "outputId": "a9bf9b40-a41c-4690-91d5-becf4a5f5526"
      },
      "execution_count": null,
      "outputs": [
        {
          "output_type": "stream",
          "name": "stdout",
          "text": [
            "Merged dictionary: {'a': 8, 'b': 3, 'c': 7}\n"
          ]
        }
      ]
    },
    {
      "cell_type": "code",
      "source": [
        "# (33) Write a code to access a value in a nested dictionary. The function should take the dictionary and a list of keys as input, and return the corresponding value. If any of the keys do not exist in the dictionary, the function should return None.\n",
        "\n",
        "def get_nested_value(nested_dict, keys_list):\n",
        "  current = nested_dict\n",
        "  for key in keys_list:\n",
        "    if key in current:\n",
        "      current = current[key]\n",
        "    else:\n",
        "      return None\n",
        "  return current\n",
        "nested_dict = {'a':{'b':{'c':'value_c'}}, 'x':{'y':'value_y'}}\n",
        "keys_list1 = ['a','b','c']\n",
        "keys_list2 = ['x','z']\n",
        "print(\"Accessing ['a','b','c']:\",get_nested_value(nested_dict, keys_list1))\n",
        "print(\"Accessing ['x','z']:\",get_nested_value(nested_dict, keys_list2))"
      ],
      "metadata": {
        "id": "MSbhnuUwb7Ci",
        "colab": {
          "base_uri": "https://localhost:8080/"
        },
        "outputId": "32005b40-1023-46ca-b564-935854f9f0e0"
      },
      "execution_count": null,
      "outputs": [
        {
          "output_type": "stream",
          "name": "stdout",
          "text": [
            "Accessing ['a','b','c']: value_c\n",
            "Accessing ['x','z']: None\n"
          ]
        }
      ]
    },
    {
      "cell_type": "code",
      "source": [
        "# (34) Write a code that takes a dictionary as input and returns a sorted version of it based on the values. You can choose whether to sort in ascending or descending order.\n",
        "\n",
        "def sort_dict_by_values(d, descending=False):\n",
        "  sorted_items = sorted(d.items(), key=lambda x:x[1], reverse=descending)\n",
        "  return dict(sorted_items)\n",
        "d = {'apple':10, 'orange':20, 'banana':5, 'cherry':15}\n",
        "sorted_d_asc = sort_dict_by_values(d)\n",
        "sorted_d_desc = sort_dict_by_values(d, descending=True)\n",
        "print(\"Sorted Dictionary (Ascending):\", sorted_d_asc)\n",
        "print(\"Sorted Dictionary (Descending):\", sorted_d_desc)"
      ],
      "metadata": {
        "id": "q9oGviAZcyVI",
        "colab": {
          "base_uri": "https://localhost:8080/"
        },
        "outputId": "cb663980-4dab-4a7e-ba1d-29e508b8461e"
      },
      "execution_count": null,
      "outputs": [
        {
          "output_type": "stream",
          "name": "stdout",
          "text": [
            "Sorted Dictionary (Ascending): {'banana': 5, 'apple': 10, 'cherry': 15, 'orange': 20}\n",
            "Sorted Dictionary (Descending): {'orange': 20, 'cherry': 15, 'apple': 10, 'banana': 5}\n"
          ]
        }
      ]
    },
    {
      "cell_type": "code",
      "source": [
        "# (35) Write a code that inverts a dictionary, swapping keys and values. Ensure that the inverted dictionary correctly handles cases where multiple keys have the same value by storing the keys as a list in the inverted dictionary.\n",
        "\n",
        "def invert_dictionary(d):\n",
        "  inverted_dict={}\n",
        "  for key, value in d.items():\n",
        "    if value in inverted_dict:\n",
        "      inverted_dict[value].append(key)\n",
        "    else:\n",
        "      inverted_dict[value] = [key]\n",
        "  return inverted_dict\n",
        "original_dict = {'a':1, 'b':2, 'c':1, 'd':3, 'e':2}\n",
        "inverted_dict = invert_dictionary(original_dict)\n",
        "print(inverted_dict)"
      ],
      "metadata": {
        "id": "-bGH68lydTkE",
        "colab": {
          "base_uri": "https://localhost:8080/"
        },
        "outputId": "88d72839-d331-4f9e-abe2-01409f7df520"
      },
      "execution_count": null,
      "outputs": [
        {
          "output_type": "stream",
          "name": "stdout",
          "text": [
            "{1: ['a', 'c'], 2: ['b', 'e'], 3: ['d']}\n"
          ]
        }
      ]
    },
    {
      "cell_type": "code",
      "source": [],
      "metadata": {
        "id": "MUOK1P4MeFxx"
      },
      "execution_count": null,
      "outputs": []
    }
  ]
}